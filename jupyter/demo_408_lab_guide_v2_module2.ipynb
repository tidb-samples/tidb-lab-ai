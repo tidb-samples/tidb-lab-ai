{
  "cells": [
    {
      "cell_type": "markdown",
      "metadata": {
        "id": "DvxElUXXrenE"
      },
      "source": [
        "# Module 2: Image Search\n",
        "\n",
        "In this module, we want to make the embedding vector of images. So we need a multi-model model to generate the embedding vector. The [Titan Multimodal Embeddings G1](https://docs.aws.amazon.com/bedrock/latest/userguide/titan-multiemb-models.html) in Amazon Bedrock is a great choice. We will use `Titan Multimodal Embeddings G1` and TiDB Serverless Vector Search to complete this module.\n",
        "\n",
        "We will use the embedding model to encode the image to a  vector and store them in TiDB Serverless. Then use the same model to encode the text query and search for the most similar images in TiDB Serverless."
      ]
    },
    {
      "cell_type": "markdown",
      "metadata": {
        "id": "PiYvsfJUrenH"
      },
      "source": [
        "## Install dependencies\n"
      ]
    },
    {
      "cell_type": "code",
      "execution_count": 1,
      "metadata": {
        "colab": {
          "base_uri": "https://localhost:8080/"
        },
        "id": "m6-KpsMErenH",
        "outputId": "91158beb-aadb-4238-eefb-06cc53470483"
      },
      "outputs": [],
      "source": [
        "%pip install -q \\\n",
        "    pytidb==0.0.10.dev1 \\\n",
        "    boto3==1.38.23 \\\n",
        "    litellm \\\n",
        "    ipyplot"
      ]
    },
    {
      "cell_type": "code",
      "execution_count": 2,
      "metadata": {
        "colab": {
          "base_uri": "https://localhost:8080/"
        },
        "id": "OgWXG-zeA71U",
        "outputId": "a223895f-af5b-459c-ff80-d1f30c36717b"
      },
      "outputs": [],
      "source": [
        "import dotenv\n",
        "\n",
        "dotenv.load_dotenv()"
      ]
    },
    {
      "cell_type": "markdown",
      "metadata": {
        "id": "K_9yIqnkKflL"
      },
      "source": [
        "## Download dataset"
      ]
    },
    {
      "cell_type": "code",
      "execution_count": 3,
      "metadata": {
        "colab": {
          "base_uri": "https://localhost:8080/",
          "height": 493
        },
        "id": "tg89YrUIKe_y",
        "outputId": "dd229ec8-a868-4a36-e7ca-f12f0676338a"
      },
      "outputs": [],
      "source": [
        "import os\n",
        "import requests\n",
        "import ipyplot\n",
        "\n",
        "os.makedirs(\"pet_images\", exist_ok=True)\n",
        "\n",
        "pet_images = [\n",
        "    \"scottish_terrier_166.jpg\",\n",
        "    \"scottish_terrier_161.jpg\",\n",
        "    \"shiba_inu_15.jpg\",\n",
        "    \"shiba_inu_16.jpg\",\n",
        "]\n",
        "\n",
        "base_url = \"https://raw.githubusercontent.com/pingcap/pytidb/main/tests/fixtures/pet_images/\"\n",
        "\n",
        "local_image_paths = []\n",
        "for img in pet_images:\n",
        "    url = base_url + img\n",
        "    local_path = os.path.join(\"pet_images\", img)\n",
        "    with open(local_path, \"wb\") as f:\n",
        "        f.write(requests.get(url).content)\n",
        "    local_image_paths.append(local_path)\n",
        "\n",
        "ipyplot.plot_images(local_image_paths, labels=pet_images, max_images=10, img_width=200, force_b64=True)"
      ]
    },
    {
      "cell_type": "markdown",
      "metadata": {
        "id": "0AqlC-B7renI"
      },
      "source": [
        "## Initial the Database and Table\n",
        "\n",
        "> **Note:**\n",
        ">\n",
        "> - We already set the `SERVERLESS_CLUSTER_HOST`, `SERVERLESS_CLUSTER_PORT`, `SERVERLESS_CLUSTER_USERNAME`, `SERVERLESS_CLUSTER_PASSWORD`, and `SERVERLESS_CLUSTER_DATABASE_NAME` in the environment parameters.\n",
        "> - We also granted the permission of using Amazon Bedrock for this lab. If you want to use this code snippet out of TiDB Labs platform, please set them beforehand."
      ]
    },
    {
      "cell_type": "markdown",
      "metadata": {
        "id": "Msct1D96renI"
      },
      "source": [
        "## Initial Multi-model Embedding Model"
      ]
    },
    {
      "cell_type": "code",
      "execution_count": 4,
      "metadata": {
        "id": "IgIkeNWPrenI"
      },
      "outputs": [],
      "source": [
        "import os\n",
        "\n",
        "from litellm import completion\n",
        "from typing import Optional, Any\n",
        "from pytidb import TiDBClient\n",
        "from pytidb.schema import TableModel, Field\n",
        "from pytidb.embeddings import EmbeddingFunction\n",
        "\n",
        "embedding_model = \"bedrock/amazon.titan-embed-image-v1\"\n",
        "llm_model = \"bedrock/us.amazon.nova-lite-v1:0\"\n",
        "\n",
        "multimodel_embedding_function = EmbeddingFunction(\n",
        "    embedding_model,\n",
        "    timeout=60\n",
        ")"
      ]
    },
    {
      "cell_type": "markdown",
      "metadata": {
        "id": "pipXfMs0wk7X"
      },
      "source": []
    },
    {
      "cell_type": "code",
      "execution_count": 5,
      "metadata": {
        "id": "cbrysqX1renI"
      },
      "outputs": [],
      "source": [
        "db = TiDBClient.connect(\n",
        "    host=os.getenv(\"SERVERLESS_CLUSTER_HOST\"),\n",
        "    port=int(os.getenv(\"SERVERLESS_CLUSTER_PORT\")),\n",
        "    username=os.getenv(\"SERVERLESS_CLUSTER_USERNAME\"),\n",
        "    password=os.getenv(\"SERVERLESS_CLUSTER_PASSWORD\"),\n",
        "    database=os.getenv(\"SERVERLESS_CLUSTER_DATABASE_NAME\"),\n",
        "    enable_ssl=True,\n",
        ")\n",
        "\n",
        "table_name = \"image_search\"\n",
        "class ImageSearch(TableModel, table=True):\n",
        "    __tablename__ = table_name\n",
        "    __table_args__ = {\"extend_existing\": True}\n",
        "    id: int | None = Field(default=None, primary_key=True)\n",
        "    image_uri: str = Field()\n",
        "    image_vec: list[float] = multimodel_embedding_function.VectorField(\n",
        "        source_field=\"image_uri\",\n",
        "        source_type=\"image\"\n",
        "    )\n",
        "table = db.create_table(schema=ImageSearch, if_exists=\"overwrite\")"
      ]
    },
    {
      "cell_type": "markdown",
      "metadata": {
        "id": "k1iL6AoIrenJ"
      },
      "source": [
        "## Insert images"
      ]
    },
    {
      "cell_type": "markdown",
      "metadata": {
        "id": "IOCcz9R2renK"
      },
      "source": [
        "## Store the images and their corresponding image embeddings in TiDB Serverless"
      ]
    },
    {
      "cell_type": "code",
      "execution_count": 6,
      "metadata": {
        "colab": {
          "base_uri": "https://localhost:8080/"
        },
        "id": "T994mL-vrenJ",
        "outputId": "ed71233f-6db5-4358-ee7a-d4a3a82ba57c"
      },
      "outputs": [],
      "source": [
        "from pathlib import Path\n",
        "\n",
        "table.bulk_insert([\n",
        "    ImageSearch(image_uri = Path(local_image_path)) for local_image_path in local_image_paths\n",
        "])"
      ]
    },
    {
      "cell_type": "markdown",
      "metadata": {
        "id": "vXKx-tJcrenK"
      },
      "source": [
        "## Search for similar images using the text query"
      ]
    },
    {
      "cell_type": "code",
      "execution_count": 9,
      "metadata": {
        "colab": {
          "base_uri": "https://localhost:8080/",
          "height": 406
        },
        "id": "Wlh2vlk5renK",
        "outputId": "324e39d8-1530-46f0-e263-1ca7f02955ce"
      },
      "outputs": [],
      "source": [
        "results = table.search(query=\"shiba inu\").limit(2).to_list()\n",
        "\n",
        "result_image_paths = [result[\"image_uri\"] for result in results]\n",
        "\n",
        "ipyplot.plot_images(result_image_paths, img_width=200, force_b64=True)"
      ]
    }
  ],
  "metadata": {
    "colab": {
      "provenance": []
    },
    "kernelspec": {
      "display_name": "Python 3 (ipykernel)",
      "language": "python",
      "name": "python3"
    }
  },
  "nbformat": 4,
  "nbformat_minor": 0
}
