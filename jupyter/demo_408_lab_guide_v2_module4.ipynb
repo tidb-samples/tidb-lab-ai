{
  "cells": [
    {
      "cell_type": "markdown",
      "metadata": {
        "id": "R5f02d7xwU73"
      },
      "source": [
        "# Module 4: GraphRAG Retrieval\n",
        "\n",
        "This module uses TiDB Serverless Vector Search to search an exist graph.\n",
        "\n",
        "We will use vector search to find the initial node, and use graph to expand 1 degree."
      ]
    },
    {
      "cell_type": "markdown",
      "metadata": {
        "id": "FNuEdeUEwU74"
      },
      "source": [
        "## Install dependencies"
      ]
    },
    {
      "cell_type": "code",
      "execution_count": null,
      "metadata": {
        "colab": {
          "base_uri": "https://localhost:8080/"
        },
        "id": "y56JN_B9wU74",
        "outputId": "c81b4f44-2089-4bf4-9b6d-836ac267d9b9"
      },
      "outputs": [],
      "source": [
        "%pip install -q \\\n",
        "    pytidb==0.0.10.dev1 \\\n",
        "    boto3==1.38.23 \\\n",
        "    litellm \\\n",
        "    ipyplot"
      ]
    },
    {
      "cell_type": "code",
      "execution_count": null,
      "metadata": {
        "colab": {
          "base_uri": "https://localhost:8080/"
        },
        "id": "OAzMuKi5xG0I",
        "outputId": "2d2e22a3-693e-4da5-b4f3-b6b5bad546fc"
      },
      "outputs": [],
      "source": [
        "import dotenv\n",
        "\n",
        "dotenv.load_dotenv()"
      ]
    },
    {
      "cell_type": "markdown",
      "metadata": {
        "id": "g7qyrlE3wU74"
      },
      "source": [
        "## Create TiDB Client"
      ]
    },
    {
      "cell_type": "code",
      "execution_count": null,
      "metadata": {
        "id": "C1EZPVqDwU74"
      },
      "outputs": [],
      "source": [
        "import os\n",
        "\n",
        "from typing import Optional, Any\n",
        "from pytidb import TiDBClient\n",
        "from pytidb.embeddings import EmbeddingFunction\n",
        "\n",
        "client = TiDBClient.connect(\n",
        "    host=os.getenv(\"SERVERLESS_CLUSTER_HOST\"),\n",
        "    port=int(os.getenv(\"SERVERLESS_CLUSTER_PORT\")),\n",
        "    username=os.getenv(\"SERVERLESS_CLUSTER_USERNAME\"),\n",
        "    password=os.getenv(\"SERVERLESS_CLUSTER_PASSWORD\"),\n",
        "    database=os.getenv(\"SERVERLESS_CLUSTER_DATABASE_NAME\"),\n",
        "    enable_ssl=True,\n",
        "    ensure_db=True,\n",
        ")\n",
        "\n",
        "embedding_model = \"bedrock/amazon.titan-embed-text-v2:0\"\n",
        "\n",
        "text_embedding_function = EmbeddingFunction(\n",
        "    embedding_model,\n",
        "    timeout=60\n",
        ")"
      ]
    },
    {
      "cell_type": "markdown",
      "metadata": {
        "id": "6PU6lRcbypCc"
      },
      "source": [
        "## Define Entities and Relationships"
      ]
    },
    {
      "cell_type": "code",
      "execution_count": null,
      "metadata": {
        "id": "HK9LLiWdyzfI"
      },
      "outputs": [],
      "source": [
        "from pytidb.schema import TableModel, Field\n",
        "from sqlalchemy import TEXT, Column\n",
        "\n",
        "class Entities(TableModel):\n",
        "    __tablename__ = \"entities\"\n",
        "    __table_args__ = {\"extend_existing\": True}\n",
        "    id: int | None = Field(default=None, primary_key=True)\n",
        "    name: str = Field(max_length=512)\n",
        "    description: str = Field(sa_column=Column(TEXT, nullable=False))\n",
        "    description_vec: Optional[Any] = text_embedding_function.VectorField(\n",
        "        source_field=\"description\",\n",
        "    )\n",
        "\n",
        "class Relationships(TableModel):\n",
        "    __tablename__ = \"relationships\"\n",
        "    __table_args__ = {\"extend_existing\": True}\n",
        "    id: int | None = Field(default=None, primary_key=True)\n",
        "    source_entity_id: int\n",
        "    target_entity_id: int\n",
        "    relationship_desc: str = Field(sa_column=Column(TEXT, nullable=False))\n",
        "\n",
        "entities_table = client.create_table(schema=Entities, if_exists=\"overwrite\")\n",
        "relationships_table = client.create_table(schema=Relationships, if_exists=\"overwrite\")"
      ]
    },
    {
      "cell_type": "markdown",
      "metadata": {
        "id": "aRC0ImqPwU74"
      },
      "source": [
        "## Import Prebuilt Data"
      ]
    },
    {
      "cell_type": "code",
      "execution_count": null,
      "metadata": {
        "colab": {
          "base_uri": "https://localhost:8080/"
        },
        "id": "x-HqtethwU75",
        "outputId": "6ade56e5-cfcf-4698-bd19-f96e3eb8ada3"
      },
      "outputs": [],
      "source": [
        "import requests\n",
        "\n",
        "entities_url = \"https://gist.github.com/Icemap/6fa6a9088a3c9d2fd9990e2748e39a8a/raw/c42c723a9769dacbd6ac8e8326f0c8f199dd3c59/entities.json\"\n",
        "relationships_url = \"https://gist.github.com/Icemap/7354ab8bb6b3ac08bc438f19cfc77a87/raw/65ae9e9770de6fba57d3615abbdcd79effb1545b/relationships.json\"\n",
        "\n",
        "entities = [\n",
        "    Entities(\n",
        "        id=item.get('id'),\n",
        "        name=item.get('name'),\n",
        "        description=item.get('description')\n",
        "    ) for item in requests.get(entities_url).json()\n",
        "]\n",
        "\n",
        "relationships = [\n",
        "    Relationships(\n",
        "        id=item.get('id'),\n",
        "        source_entity_id=item.get('source_entity_id'),\n",
        "        target_entity_id=item.get('target_entity_id'),\n",
        "        relationship_desc=item.get('relationship_desc')\n",
        "    ) for item in requests.get(relationships_url).json()\n",
        "]\n",
        "\n",
        "inserted_entities = entities_table.bulk_insert(entities)\n",
        "inserted_relationships = relationships_table.bulk_insert(relationships)\n",
        "\n",
        "f\"Inserted {len(inserted_entities)} entities and {len(inserted_relationships)} relationships\""
      ]
    },
    {
      "cell_type": "markdown",
      "metadata": {
        "id": "AjhHtIjLwU75"
      },
      "source": [
        "## Query Data\n",
        "\n",
        "After importing data into TiDB Serverless, we can query it by asking a question, like \"What is TiKV?\" or another you like."
      ]
    },
    {
      "cell_type": "code",
      "execution_count": null,
      "metadata": {
        "colab": {
          "base_uri": "https://localhost:8080/",
          "height": 850
        },
        "id": "9cFWF0JpwU75",
        "outputId": "5a38150e-c1bc-4ca4-976e-5ad2c63b9cec"
      },
      "outputs": [],
      "source": [
        "from sqlalchemy import text\n",
        "\n",
        "question = input(\"Enter your question:\")\n",
        "embedding = str(text_embedding_function.get_query_embedding(question))\n",
        "\n",
        "query_sql = \"\"\"\n",
        "WITH initial_entity AS (\n",
        "    SELECT id FROM `entities`\n",
        "    ORDER BY VEC_Cosine_Distance(description_vec, :embedding) LIMIT 1\n",
        "), entities_ids AS (\n",
        "    SELECT source_entity_id i FROM relationships r INNER JOIN initial_entity i ON r.target_entity_id = i.id\n",
        "    UNION SELECT target_entity_id i FROM relationships r INNER JOIN initial_entity i ON r.source_entity_id = i.id\n",
        "    UNION SELECT initial_entity.id i FROM initial_entity\n",
        ") SELECT * FROM `entities` WHERE id IN (SELECT i FROM entities_ids);\"\"\"\n",
        "\n",
        "result = client.query(sql=query_sql, params={\"embedding\": embedding})\n",
        "result.to_pandas()"
      ]
    },
    {
      "cell_type": "code",
      "execution_count": null,
      "metadata": {
        "colab": {
          "base_uri": "https://localhost:8080/",
          "height": 295
        },
        "id": "mIxIG42pA6XL",
        "outputId": "2884bd8e-c48a-4c4c-82d0-cb2056f75493"
      },
      "outputs": [],
      "source": [
        "from litellm import completion\n",
        "\n",
        "llm_model = \"bedrock/us.amazon.nova-lite-v1:0\"\n",
        "\n",
        "messages = [\n",
        "    {\"role\": \"system\", \"content\": f\"Please carefully answer the question by {str(result)}\"},\n",
        "    {\"role\": \"user\", \"content\": question}\n",
        "]\n",
        "\n",
        "llm_response = completion(\n",
        "    model=llm_model,\n",
        "    messages=messages,\n",
        ")\n",
        "\n",
        "print(llm_response.choices[0].message.content)"
      ]
    }
  ],
  "metadata": {
    "colab": {
      "provenance": []
    },
    "kernelspec": {
      "display_name": "Python 3 (ipykernel)",
      "language": "python",
      "name": "python3"
    },
    "language_info": {
      "codemirror_mode": {
        "name": "ipython",
        "version": 3
      },
      "file_extension": ".py",
      "mimetype": "text/x-python",
      "name": "python",
      "nbconvert_exporter": "python",
      "pygments_lexer": "ipython3",
      "version": "3.11.6"
    }
  },
  "nbformat": 4,
  "nbformat_minor": 0
}
