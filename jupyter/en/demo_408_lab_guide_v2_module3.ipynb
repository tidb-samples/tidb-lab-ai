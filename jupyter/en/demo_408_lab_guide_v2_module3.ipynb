{
  "cells": [
    {
      "cell_type": "markdown",
      "metadata": {
        "id": "w77NBZpIn4sE"
      },
      "source": [
        "# Module 3: Hybrid RAG\n",
        "\n",
        "We already went through the vanilla RAG in the Module 1. Here we will introduce a new type of RAG, which is Hybrid RAG. In some senarios, we want a higher recall rate, but the embedding vector search cannot offer a good performance.\n",
        "\n",
        "In this case, we will usually use multi-channel retrieval to improve the performance. And the another channel aside from the embedding vector search is the BM25.\n",
        "\n",
        "This module uses Amazon Bedrock Embedding model and TiDB Serverless Vector Search.\n",
        "\n",
        "> **Note:**\n",
        ">\n",
        "> - We already set the `SERVERLESS_CLUSTER_HOST`, `SERVERLESS_CLUSTER_PORT`, `SERVERLESS_CLUSTER_USERNAME`, `SERVERLESS_CLUSTER_PASSWORD`, and `SERVERLESS_CLUSTER_DATABASE_NAME` in the environment parameters.\n",
        "> - We also granted the permission of using Amazon Bedrock for this lab. If you want to use this code snippet out of TiDB Labs platform, please set them beforehand."
      ]
    },
    {
      "cell_type": "markdown",
      "metadata": {
        "id": "F1fsS576izUl"
      },
      "source": [
        "## Install Dependencies"
      ]
    },
    {
      "cell_type": "code",
      "execution_count": null,
      "metadata": {
        "id": "C0FJcA7pnprs"
      },
      "outputs": [],
      "source": [
        "%pip install -q \\\n",
        "    pytidb==0.0.10.dev1 \\\n",
        "    boto3==1.38.23 \\\n",
        "    litellm \\\n",
        "    pandas"
      ]
    },
    {
      "cell_type": "markdown",
      "metadata": {
        "id": "OJWgfacuryQM"
      },
      "source": [
        "## Initial the Clients of Database"
      ]
    },
    {
      "cell_type": "code",
      "execution_count": null,
      "metadata": {
        "id": "7l5JE35Qry_j"
      },
      "outputs": [],
      "source": [
        "import os\n",
        "\n",
        "from litellm import completion\n",
        "from typing import Optional, Any\n",
        "from pytidb import TiDBClient\n",
        "from pytidb.schema import TableModel, Field\n",
        "from pytidb.embeddings import EmbeddingFunction\n",
        "\n",
        "db = TiDBClient.connect(\n",
        "    host=os.getenv(\"SERVERLESS_CLUSTER_HOST\"),\n",
        "    port=int(os.getenv(\"SERVERLESS_CLUSTER_PORT\")),\n",
        "    username=os.getenv(\"SERVERLESS_CLUSTER_USERNAME\"),\n",
        "    password=os.getenv(\"SERVERLESS_CLUSTER_PASSWORD\"),\n",
        "    database=os.getenv(\"SERVERLESS_CLUSTER_DATABASE_NAME\"),\n",
        "    enable_ssl=True,\n",
        ")\n",
        "\n",
        "embedding_model = \"bedrock/amazon.titan-embed-text-v2:0\"\n",
        "\n",
        "text_embedding_function = EmbeddingFunction(\n",
        "    embedding_model,\n",
        "    timeout=60\n",
        ")"
      ]
    },
    {
      "cell_type": "markdown",
      "metadata": {
        "id": "ljUtiXcIr3qr"
      },
      "source": [
        "## Prepare the Context\n",
        "\n",
        "Just like the Module 1, we created the table `documents`, but this time, we added a new index by using this line:\n",
        "\n",
        "```python\n",
        "table.create_fts_index(\"text\")\n",
        "```\n",
        "\n",
        "It creates a new Full-text Search Index based on the `text` column."
      ]
    },
    {
      "cell_type": "code",
      "execution_count": null,
      "metadata": {
        "colab": {
          "base_uri": "https://localhost:8080/",
          "height": 211
        },
        "id": "w57jSq94r6MI",
        "outputId": "5bc64f3e-d527-4fd3-8430-9ad3e214756e"
      },
      "outputs": [],
      "source": [
        "table_name = \"documents\"\n",
        "class Document(TableModel, table=True):\n",
        "    __tablename__ = table_name\n",
        "    __table_args__ = {\"extend_existing\": True}\n",
        "    id: int | None = Field(default=None, primary_key=True)\n",
        "    text: str = Field(max_length=1024)\n",
        "    embedding: Optional[Any] = text_embedding_function.VectorField(\n",
        "        source_field=\"text\",\n",
        "    )\n",
        "\n",
        "documents = [\n",
        "    Document(id=1, text=\"TiDB is an open-source distributed SQL database that supports Hybrid Transactional and Analytical Processing (HTAP) workloads.\"),\n",
        "    Document(id=2, text=\"TiFlash is the key component that makes TiDB essentially an Hybrid Transactional/Analytical Processing (HTAP) database. As a columnar storage extension of TiKV, TiFlash provides both good isolation level and strong consistency guarantee.\"),\n",
        "    Document(id=3, text=\"TiKV is a distributed and transactional key-value database, which provides transactional APIs with ACID compliance. With the implementation of the Raft consensus algorithm and consensus state stored in RocksDB, TiKV guarantees data consistency between multiple replicas and high availability. \"),\n",
        "]\n",
        "\n",
        "table = db.create_table(schema=Document, if_exists=\"overwrite\")\n",
        "\n",
        "table.create_fts_index(\"text\")\n",
        "\n",
        "table.bulk_insert(documents)\n",
        "table.query(\"ALTER TABLE documents COMPACT\")"
      ]
    },
    {
      "cell_type": "markdown",
      "metadata": {
        "id": "EPwrKVCas6Xe"
      },
      "source": [
        "## Retrieve by Hybrid Search\n",
        "\n",
        "This time, we not only get the relevant documents by Cosine Distance of Vectors, but also the BM25 scores. Then we using fusion method to merge the result set.\n",
        "\n",
        "But you don't need to write it, `pytidb` already did it for you. You only need to search it by using `search_type=\"hybrid\"` and point out the `text_column` like:\n",
        "\n"
      ]
    },
    {
      "cell_type": "code",
      "execution_count": null,
      "metadata": {
        "id": "xGfQ6s_6sjtq"
      },
      "outputs": [],
      "source": [
        "question = \"What is TiKV?\"\n",
        "\n",
        "results = table.search(question, search_type=\"hybrid\").text_column(\"text\").limit(1)\n",
        "results.to_pandas()"
      ]
    },
    {
      "cell_type": "markdown",
      "metadata": {
        "id": "rvNWRI7CuAGy"
      },
      "source": [
        "## Generate the Answer"
      ]
    },
    {
      "cell_type": "code",
      "execution_count": null,
      "metadata": {
        "id": "XI1gHrC7t_Fb"
      },
      "outputs": [],
      "source": [
        "from litellm import completion\n",
        "\n",
        "llm_model = \"bedrock/us.amazon.nova-lite-v1:0\"\n",
        "\n",
        "messages = [\n",
        "    {\"role\": \"system\", \"content\": f\"Please carefully answer the question by {str(results)}\"},\n",
        "    {\"role\": \"user\", \"content\": question}\n",
        "]\n",
        "\n",
        "llm_response = completion(\n",
        "    model=llm_model,\n",
        "    messages=messages,\n",
        ")\n",
        "\n",
        "print(llm_response.choices[0].message.content)"
      ]
    }
  ],
  "metadata": {
    "colab": {
      "provenance": [],
      "toc_visible": true
    },
    "kernelspec": {
      "display_name": "Python 3",
      "name": "python3"
    },
    "language_info": {
      "name": "python"
    }
  },
  "nbformat": 4,
  "nbformat_minor": 0
}
