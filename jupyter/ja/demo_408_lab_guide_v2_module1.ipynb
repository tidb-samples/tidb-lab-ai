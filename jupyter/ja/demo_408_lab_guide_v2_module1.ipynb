{
    "cells": [
        {
            "cell_type": "markdown",
            "metadata": {
                "id": "uyZcP_8TqZyG"
            },
            "source": [
                "# モジュール1: RAG（検索拡張生成）\n",
                "\n",
                "このモジュールでは、Amazon Bedrock EmbeddingモデルとTiDB Cloud Starterベクトル検索を使用してデータを取得します。その後、LLM（大規模言語モデル）を使って質問への回答を生成します。\n",
                "\n",
                "ここでは、`pytidb`とTiDB Cloud Starterを使って、どれだけ簡単にRAGアプリケーションを構築できるかを示します。"
            ]
        },
        {
            "cell_type": "markdown",
            "metadata": {
                "id": "psEHGWiHizUq"
            },
            "source": [
                "> **注意:**\n",
                ">\n",
                "> - 環境パラメータに `SERVERLESS_CLUSTER_HOST`、`SERVERLESS_CLUSTER_PORT`、`SERVERLESS_CLUSTER_USERNAME`、`SERVERLESS_CLUSTER_PASSWORD`、`SERVERLESS_CLUSTER_DATABASE_NAME` をすでに設定しています。\n",
                "> - また、このラボでAmazon Bedrockの利用権限も付与済みです。TiDB Labsプラットフォーム以外でこのコードスニペットを使用したい場合は、事前にこれらを設定してください。"
            ]
        },
        {
            "cell_type": "markdown",
            "metadata": {
                "id": "F1fsS576izUl"
            },
            "source": [
                "## 依存関係のインストール\n",
                "\n",
                "セルの左側にある三角形の実行ボタンをクリックしてコードを実行してください。"
            ]
        },
        {
            "cell_type": "code",
            "execution_count": null,
            "metadata": {
                "id": "pTpKX_lDizUp"
            },
            "outputs": [],
            "source": [
                "%pip install -q \\\n",
                "    pytidb==0.0.10.dev1 \\\n",
                "    boto3==1.38.23 \\\n",
                "    litellm \\\n",
                "    pandas"
            ]
        },
        {
            "cell_type": "markdown",
            "metadata": {
                "id": "3WbH_BITizUr"
            },
            "source": [
                "## データベースクライアントの初期化"
            ]
        },
        {
            "cell_type": "code",
            "execution_count": null,
            "metadata": {
                "id": "UWtcs58-izUr"
            },
            "outputs": [],
            "source": [
                "import os\n",
                "\n",
                "from litellm import completion\n",
                "from typing import Optional, Any\n",
                "from pytidb import TiDBClient\n",
                "from pytidb.schema import TableModel, Field\n",
                "from pytidb.embeddings import EmbeddingFunction\n",
                "\n",
                "db = TiDBClient.connect(\n",
                "    host=os.getenv(\"SERVERLESS_CLUSTER_HOST\"),\n",
                "    port=int(os.getenv(\"SERVERLESS_CLUSTER_PORT\")),\n",
                "    username=os.getenv(\"SERVERLESS_CLUSTER_USERNAME\"),\n",
                "    password=os.getenv(\"SERVERLESS_CLUSTER_PASSWORD\"),\n",
                "    database=os.getenv(\"SERVERLESS_CLUSTER_DATABASE_NAME\"),\n",
                "    enable_ssl=True,\n",
                ")\n",
                "\n",
                "embedding_model = \"bedrock/amazon.titan-embed-text-v2:0\"\n",
                "\n",
                "text_embedding_function = EmbeddingFunction(\n",
                "    embedding_model,\n",
                "    timeout=60\n",
                ")"
            ]
        },
        {
            "cell_type": "markdown",
            "metadata": {
                "id": "uOyjrmWJizUr"
            },
            "source": [
                "## コンテキストの準備\n",
                "\n",
                "この場合、コンテキストはドキュメントです。openaiの埋め込みモデルを使ってドキュメントの埋め込みを取得し、それらをTiDBに保存します。"
            ]
        },
        {
            "cell_type": "code",
            "execution_count": null,
            "metadata": {
                "id": "_e5P_m0MizUs"
            },
            "outputs": [],
            "source": [
                "table_name = \"documents\"\n",
                "class Document(TableModel, table=True):\n",
                "    __tablename__ = table_name\n",
                "    __table_args__ = {\"extend_existing\": True}\n",
                "    id: int | None = Field(default=None, primary_key=True)\n",
                "    text: str = Field(max_length=1024)\n",
                "    embedding: Optional[Any] = text_embedding_function.VectorField(\n",
                "        source_field=\"text\",\n",
                "    )\n",
                "\n",
                "documents = [\n",
                "    Document(id=1, text=\"TiDB is an open-source distributed SQL database that supports Hybrid Transactional and Analytical Processing (HTAP) workloads.\"),\n",
                "    Document(id=2, text=\"TiFlash is the key component that makes TiDB essentially an Hybrid Transactional/Analytical Processing (HTAP) database. As a columnar storage extension of TiKV, TiFlash provides both good isolation level and strong consistency guarantee.\"),\n",
                "    Document(id=3, text=\"TiKV is a distributed and transactional key-value database, which provides transactional APIs with ACID compliance. With the implementation of the Raft consensus algorithm and consensus state stored in RocksDB, TiKV guarantees data consistency between multiple replicas and high availability. \"),\n",
                "]\n",
                "\n",
                "table = db.create_table(schema=Document, if_exists=\"overwrite\")\n",
                "table.bulk_insert(documents)"
            ]
        },
        {
            "cell_type": "markdown",
            "metadata": {
                "id": "atc0gXVZizUt"
            },
            "source": [
                "## ベクトルのコサイン距離による検索\n",
                "\n",
                "質問とドキュメントの埋め込みを比較して、TiDBから関連するドキュメントを取得します。"
            ]
        },
        {
            "cell_type": "code",
            "execution_count": null,
            "metadata": {
                "colab": {
                    "base_uri": "https://localhost:8080/",
                    "height": 80
                },
                "id": "DTtJRX64izUt",
                "outputId": "3ed92d25-349a-40f8-996d-3ad8ac305c9b"
            },
            "outputs": [],
            "source": [
                "question = \"what is TiKV?\"\n",
                "\n",
                "results = table.search(question).limit(1)\n",
                "results.to_pandas()"
            ]
        },
        {
            "cell_type": "markdown",
            "metadata": {
                "id": "KtEFEUkop4qx"
            },
            "source": [
                "## 回答の生成"
            ]
        },
        {
            "cell_type": "code",
            "execution_count": null,
            "metadata": {
                "id": "nZxd_RBsp6_z"
            },
            "outputs": [],
            "source": [
                "from litellm import completion\n",
                "\n",
                "llm_model = \"bedrock/us.amazon.nova-lite-v1:0\"\n",
                "\n",
                "messages = [\n",
                "    {\"role\": \"system\", \"content\": f\"Please carefully answer the question by {str(results)}\"},\n",
                "    {\"role\": \"user\", \"content\": question}\n",
                "]\n",
                "\n",
                "llm_response = completion(\n",
                "    model=llm_model,\n",
                "    messages=messages,\n",
                ")\n",
                "\n",
                "print(llm_response.choices[0].message.content)"
            ]
        }
    ],
    "metadata": {
        "colab": {
            "provenance": []
        },
        "kernelspec": {
            "display_name": "Python 3 (ipykernel)",
            "language": "python",
            "name": "python3"
        }
    },
    "nbformat": 4,
    "nbformat_minor": 0
}