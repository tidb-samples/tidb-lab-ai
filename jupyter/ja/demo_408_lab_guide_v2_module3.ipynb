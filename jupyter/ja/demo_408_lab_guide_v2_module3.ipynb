{
  "cells": [
    {
      "cell_type": "markdown",
      "metadata": {
        "id": "w77NBZpIn4sE"
      },
      "source": [
        "# モジュール3: ハイブリッドRAG\n",
        "\n",
        "モジュール1で基本的なRAGについて学びました。ここでは新しいタイプのRAGであるハイブリッドRAGを紹介します。場合によっては、より高いリコール率が求められますが、埋め込みベクトル検索だけでは十分なパフォーマンスが得られないことがあります。\n",
        "\n",
        "このような場合、通常はマルチチャネル検索を利用してパフォーマンスを向上させます。埋め込みベクトル検索以外のもう一つのチャネルとしてBM25を使用します。\n",
        "\n",
        "このモジュールでは、Amazon Bedrockの埋め込みモデルとTiDB Cloud Starterベクトル検索を使用します。\n",
        "\n",
        "> **注意:**\n",
        ">\n",
        "> - 環境パラメータに `SERVERLESS_CLUSTER_HOST`、`SERVERLESS_CLUSTER_PORT`、`SERVERLESS_CLUSTER_USERNAME`、`SERVERLESS_CLUSTER_PASSWORD`、`SERVERLESS_CLUSTER_DATABASE_NAME` をすでに設定しています。\n",
        "> - また、このラボでAmazon Bedrockの利用権限も付与済みです。TiDB Labsプラットフォーム以外でこのコードスニペットを使用したい場合は、事前にこれらを設定してください。"
      ]
    },
    {
      "cell_type": "markdown",
      "metadata": {
        "id": "F1fsS576izUl"
      },
      "source": [
        "## 依存関係のインストール"
      ]
    },
    {
      "cell_type": "code",
      "execution_count": null,
      "metadata": {
        "id": "C0FJcA7pnprs"
      },
      "outputs": [],
      "source": [
        "%pip install -q \\\n",
        "    pytidb==0.0.10.dev1 \\\n",
        "    boto3==1.38.23 \\\n",
        "    litellm \\\n",
        "    pandas"
      ]
    },
    {
      "cell_type": "markdown",
      "metadata": {
        "id": "OJWgfacuryQM"
      },
      "source": [
        "## データベースクライアントの初期化"
      ]
    },
    {
      "cell_type": "code",
      "execution_count": null,
      "metadata": {
        "id": "7l5JE35Qry_j"
      },
      "outputs": [],
      "source": [
        "import os\n",
        "\n",
        "from litellm import completion\n",
        "from typing import Optional, Any\n",
        "from pytidb import TiDBClient\n",
        "from pytidb.schema import TableModel, Field\n",
        "from pytidb.embeddings import EmbeddingFunction\n",
        "\n",
        "db = TiDBClient.connect(\n",
        "    host=os.getenv(\"SERVERLESS_CLUSTER_HOST\"),\n",
        "    port=int(os.getenv(\"SERVERLESS_CLUSTER_PORT\")),\n",
        "    username=os.getenv(\"SERVERLESS_CLUSTER_USERNAME\"),\n",
        "    password=os.getenv(\"SERVERLESS_CLUSTER_PASSWORD\"),\n",
        "    database=os.getenv(\"SERVERLESS_CLUSTER_DATABASE_NAME\"),\n",
        "    enable_ssl=True,\n",
        ")\n",
        "\n",
        "embedding_model = \"bedrock/amazon.titan-embed-text-v2:0\"\n",
        "\n",
        "text_embedding_function = EmbeddingFunction(\n",
        "    embedding_model,\n",
        "    timeout=60\n",
        ")"
      ]
    },
    {
      "cell_type": "markdown",
      "metadata": {
        "id": "ljUtiXcIr3qr"
      },
      "source": [
        "## コンテキストの準備\n",
        "\n",
        "モジュール1と同様に、`documents` テーブルを作成しますが、今回は次の行で新しいインデックスを追加します:\n",
        "\n",
        "```python\n",
        "table.create_fts_index(\"text\")\n",
        "```\n",
        "\n",
        "これにより、`text` カラムに基づいた全文検索インデックスが作成されます。"
      ]
    },
    {
      "cell_type": "code",
      "execution_count": null,
      "metadata": {
        "colab": {
          "base_uri": "https://localhost:8080/",
          "height": 211
        },
        "id": "w57jSq94r6MI",
        "outputId": "5bc64f3e-d527-4fd3-8430-9ad3e214756e"
      },
      "outputs": [],
      "source": [
        "table_name = \"documents\"\n",
        "class Document(TableModel, table=True):\n",
        "    __tablename__ = table_name\n",
        "    __table_args__ = {\"extend_existing\": True}\n",
        "    id: int | None = Field(default=None, primary_key=True)\n",
        "    text: str = Field(max_length=1024)\n",
        "    embedding: Optional[Any] = text_embedding_function.VectorField(\n",
        "        source_field=\"text\",\n",
        "    )\n",
        "\n",
        "documents = [\n",
        "    Document(id=1, text=\"TiDB is an open-source distributed SQL database that supports Hybrid Transactional and Analytical Processing (HTAP) workloads.\"),\n",
        "    Document(id=2, text=\"TiFlash is the key component that makes TiDB essentially an Hybrid Transactional/Analytical Processing (HTAP) database. As a columnar storage extension of TiKV, TiFlash provides both good isolation level and strong consistency guarantee.\"),\n",
        "    Document(id=3, text=\"TiKV is a distributed and transactional key-value database, which provides transactional APIs with ACID compliance. With the implementation of the Raft consensus algorithm and consensus state stored in RocksDB, TiKV guarantees data consistency between multiple replicas and high availability. \"),\n",
        "]\n",
        "\n",
        "table = db.create_table(schema=Document, if_exists=\"overwrite\")\n",
        "\n",
        "table.create_fts_index(\"text\")\n",
        "\n",
        "table.bulk_insert(documents)\n",
        "db.execute(\"ALTER TABLE documents COMPACT\")"
      ]
    },
    {
      "cell_type": "markdown",
      "metadata": {
        "id": "EPwrKVCas6Xe"
      },
      "source": [
        "## ハイブリッド検索による検索\n",
        "\n",
        "今回は、ベクトルのコサイン距離による関連ドキュメント取得だけでなく、BM25スコアも取得します。その後、融合手法で結果セットを統合します。\n",
        "\n",
        "ただし、この処理は自分で実装する必要はありません。`pytidb`がすでに対応しています。`search_type=\"hybrid\"` を指定し、`text_column` を指定するだけで検索できます:\n",
        "\n"
      ]
    },
    {
      "cell_type": "code",
      "execution_count": null,
      "metadata": {
        "id": "xGfQ6s_6sjtq"
      },
      "outputs": [],
      "source": [
        "question = \"What is TiKV?\"\n",
        "\n",
        "results = table.search(question, search_type=\"hybrid\").text_column(\"text\").limit(1)\n",
        "results.to_pandas()"
      ]
    },
    {
      "cell_type": "markdown",
      "metadata": {
        "id": "rvNWRI7CuAGy"
      },
      "source": [
        "## 回答の生成"
      ]
    },
    {
      "cell_type": "code",
      "execution_count": null,
      "metadata": {
        "id": "XI1gHrC7t_Fb"
      },
      "outputs": [],
      "source": [
        "from litellm import completion\n",
        "\n",
        "llm_model = \"bedrock/us.amazon.nova-lite-v1:0\"\n",
        "\n",
        "messages = [\n",
        "    {\"role\": \"system\", \"content\": f\"Please carefully answer the question by {str(results)}\"},\n",
        "    {\"role\": \"user\", \"content\": question}\n",
        "]\n",
        "\n",
        "llm_response = completion(\n",
        "    model=llm_model,\n",
        "    messages=messages,\n",
        ")\n",
        "\n",
        "print(llm_response.choices[0].message.content)"
      ]
    }
  ],
  "metadata": {
    "colab": {
      "provenance": [],
      "toc_visible": true
    },
    "kernelspec": {
      "display_name": "Python 3",
      "name": "python3"
    },
    "language_info": {
      "name": "python"
    }
  },
  "nbformat": 4,
  "nbformat_minor": 0
}
