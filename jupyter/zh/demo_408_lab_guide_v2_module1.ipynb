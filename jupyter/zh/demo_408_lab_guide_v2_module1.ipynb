{
    "cells": [
        {
            "cell_type": "markdown",
            "metadata": {
                "id": "uyZcP_8TqZyG"
            },
            "source": [
                "# 模块1：RAG（检索增强生成）\n",
                "\n",
                "本模块使用 Amazon Bedrock 嵌入模型和 TiDB Cloud Starter 向量检索来获取数据，然后使用大语言模型（LLM）生成问题的答案。\n",
                "\n",
                "在这里，我们演示了如何使用 `pytidb` 和 TiDB Cloud Starter 轻松构建 RAG 应用。"
            ]
        },
        {
            "cell_type": "markdown",
            "metadata": {
                "id": "psEHGWiHizUq"
            },
            "source": [
                "> **注意：**\n",
                ">\n",
                "> - 我们已经在环境参数中设置了 `SERVERLESS_CLUSTER_HOST`、`SERVERLESS_CLUSTER_PORT`、`SERVERLESS_CLUSTER_USERNAME`、`SERVERLESS_CLUSTER_PASSWORD` 和 `SERVERLESS_CLUSTER_DATABASE_NAME`。\n",
                "> - 我们还为本实验授予了 Amazon Bedrock 的使用权限。如果你想在 TiDB Labs 平台之外使用此代码片段，请提前进行相关设置。"
            ]
        },
        {
            "cell_type": "markdown",
            "metadata": {
                "id": "F1fsS576izUl"
            },
            "source": [
                "## 安装依赖项\n",
                "\n",
                "点击单元格左侧的三角形运行按钮以执行代码。"
            ]
        },
        {
            "cell_type": "code",
            "execution_count": null,
            "metadata": {
                "id": "pTpKX_lDizUp"
            },
            "outputs": [],
            "source": [
                "%pip install -q \\\n",
                "    pytidb==0.0.10.dev1 \\\n",
                "    boto3==1.38.23 \\\n",
                "    litellm \\\n",
                "    pandas"
            ]
        },
        {
            "cell_type": "markdown",
            "metadata": {
                "id": "3WbH_BITizUr"
            },
            "source": [
                "## 初始化数据库客户端"
            ]
        },
        {
            "cell_type": "code",
            "execution_count": null,
            "metadata": {
                "id": "UWtcs58-izUr"
            },
            "outputs": [],
            "source": [
                "import os\n",
                "\n",
                "from litellm import completion\n",
                "from typing import Optional, Any\n",
                "from pytidb import TiDBClient\n",
                "from pytidb.schema import TableModel, Field\n",
                "from pytidb.embeddings import EmbeddingFunction\n",
                "\n",
                "db = TiDBClient.connect(\n",
                "    host=os.getenv(\"SERVERLESS_CLUSTER_HOST\"),\n",
                "    port=int(os.getenv(\"SERVERLESS_CLUSTER_PORT\")),\n",
                "    username=os.getenv(\"SERVERLESS_CLUSTER_USERNAME\"),\n",
                "    password=os.getenv(\"SERVERLESS_CLUSTER_PASSWORD\"),\n",
                "    database=os.getenv(\"SERVERLESS_CLUSTER_DATABASE_NAME\"),\n",
                "    enable_ssl=True,\n",
                ")\n",
                "\n",
                "embedding_model = \"bedrock/amazon.titan-embed-text-v2:0\"\n",
                "\n",
                "text_embedding_function = EmbeddingFunction(\n",
                "    embedding_model,\n",
                "    timeout=60\n",
                ")"
            ]
        },
        {
            "cell_type": "markdown",
            "metadata": {
                "id": "uOyjrmWJizUr"
            },
            "source": [
                "## 准备上下文\n",
                "\n",
                "在本例中，上下文即为文档，使用 openai 嵌入模型获取文档的向量，并将其存储到 TiDB 中。"
            ]
        },
        {
            "cell_type": "code",
            "execution_count": null,
            "metadata": {
                "id": "_e5P_m0MizUs"
            },
            "outputs": [],
            "source": [
                "table_name = \"documents\"\n",
                "class Document(TableModel, table=True):\n",
                "    __tablename__ = table_name\n",
                "    __table_args__ = {\"extend_existing\": True}\n",
                "    id: int | None = Field(default=None, primary_key=True)\n",
                "    text: str = Field(max_length=1024)\n",
                "    embedding: Optional[Any] = text_embedding_function.VectorField(\n",
                "        source_field=\"text\",\n",
                "    )\n",
                "\n",
                "documents = [\n",
                "    Document(id=1, text=\"TiDB is an open-source distributed SQL database that supports Hybrid Transactional and Analytical Processing (HTAP) workloads.\"),\n",
                "    Document(id=2, text=\"TiFlash is the key component that makes TiDB essentially an Hybrid Transactional/Analytical Processing (HTAP) database. As a columnar storage extension of TiKV, TiFlash provides both good isolation level and strong consistency guarantee.\"),\n",
                "    Document(id=3, text=\"TiKV is a distributed and transactional key-value database, which provides transactional APIs with ACID compliance. With the implementation of the Raft consensus algorithm and consensus state stored in RocksDB, TiKV guarantees data consistency between multiple replicas and high availability. \"),\n",
                "]\n",
                "\n",
                "table = db.create_table(schema=Document, if_exists=\"overwrite\")\n",
                "table.bulk_insert(documents)"
            ]
        },
        {
            "cell_type": "markdown",
            "metadata": {
                "id": "atc0gXVZizUt"
            },
            "source": [
                "## 通过向量余弦距离检索\n",
                "\n",
                "通过比较问题和文档的向量，从 TiDB 中获取相关文档"
            ]
        },
        {
            "cell_type": "code",
            "execution_count": null,
            "metadata": {
                "colab": {
                    "base_uri": "https://localhost:8080/",
                    "height": 80
                },
                "id": "DTtJRX64izUt",
                "outputId": "3ed92d25-349a-40f8-996d-3ad8ac305c9b"
            },
            "outputs": [],
            "source": [
                "question = \"what is TiKV?\"\n",
                "\n",
                "results = table.search(question).limit(1)\n",
                "results.to_pandas()"
            ]
        },
        {
            "cell_type": "markdown",
            "metadata": {
                "id": "KtEFEUkop4qx"
            },
            "source": [
                "## 生成答案"
            ]
        },
        {
            "cell_type": "code",
            "execution_count": null,
            "metadata": {
                "id": "nZxd_RBsp6_z"
            },
            "outputs": [],
            "source": [
                "from litellm import completion\n",
                "\n",
                "llm_model = \"bedrock/us.amazon.nova-lite-v1:0\"\n",
                "\n",
                "messages = [\n",
                "    {\"role\": \"system\", \"content\": f\"Please carefully answer the question by {str(results)}\"},\n",
                "    {\"role\": \"user\", \"content\": question}\n",
                "]\n",
                "\n",
                "llm_response = completion(\n",
                "    model=llm_model,\n",
                "    messages=messages,\n",
                ")\n",
                "\n",
                "print(llm_response.choices[0].message.content)"
            ]
        }
    ],
    "metadata": {
        "colab": {
            "provenance": []
        },
        "kernelspec": {
            "display_name": "Python 3 (ipykernel)",
            "language": "python",
            "name": "python3"
        }
    },
    "nbformat": 4,
    "nbformat_minor": 0
}