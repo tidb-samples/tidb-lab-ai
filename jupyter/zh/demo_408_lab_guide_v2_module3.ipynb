{
    "cells": [
        {
            "cell_type": "markdown",
            "metadata": {
                "id": "w77NBZpIn4sE"
            },
            "source": [
                "# 模块 3：混合 RAG\n",
                "\n",
                "我们已经在模块 1 中介绍了基础版的 RAG。在这里，我们将介绍一种新的 RAG 类型——混合 RAG。在某些场景下，我们希望获得更高的召回率，但仅靠嵌入向量检索无法获得理想的效果。\n",
                "\n",
                "在这种情况下，通常会采用多通道检索来提升效果。除了嵌入向量检索外，另一个常用的通道是 BM25。\n",
                "\n",
                "本模块将使用 Amazon Bedrock 嵌入模型和 TiDB Cloud Starter 向量检索。\n",
                "\n",
                "> **注意：**\n",
                ">\n",
                "> - 我们已经在环境参数中设置了 `SERVERLESS_CLUSTER_HOST`、`SERVERLESS_CLUSTER_PORT`、`SERVERLESS_CLUSTER_USERNAME`、`SERVERLESS_CLUSTER_PASSWORD` 和 `SERVERLESS_CLUSTER_DATABASE_NAME`。\n",
                "> - 我们还为本实验授予了 Amazon Bedrock 的使用权限。如果你想在 TiDB Labs 平台之外使用此代码片段，请提前进行相关设置。"
            ]
        },
        {
            "cell_type": "markdown",
            "metadata": {
                "id": "F1fsS576izUl"
            },
            "source": [
                "## 安装依赖"
            ]
        },
        {
            "cell_type": "code",
            "execution_count": null,
            "metadata": {
                "id": "C0FJcA7pnprs"
            },
            "outputs": [],
            "source": [
                "%pip install -q \\\n",
                "    pytidb==0.0.10.dev1 \\\n",
                "    boto3==1.38.23 \\\n",
                "    litellm \\\n",
                "    pandas"
            ]
        },
        {
            "cell_type": "markdown",
            "metadata": {
                "id": "OJWgfacuryQM"
            },
            "source": [
                "## 初始化数据库客户端"
            ]
        },
        {
            "cell_type": "code",
            "execution_count": null,
            "metadata": {
                "id": "7l5JE35Qry_j"
            },
            "outputs": [],
            "source": [
                "import os\n",
                "\n",
                "from litellm import completion\n",
                "from typing import Optional, Any\n",
                "from pytidb import TiDBClient\n",
                "from pytidb.schema import TableModel, Field\n",
                "from pytidb.embeddings import EmbeddingFunction\n",
                "\n",
                "db = TiDBClient.connect(\n",
                "    host=os.getenv(\"SERVERLESS_CLUSTER_HOST\"),\n",
                "    port=int(os.getenv(\"SERVERLESS_CLUSTER_PORT\")),\n",
                "    username=os.getenv(\"SERVERLESS_CLUSTER_USERNAME\"),\n",
                "    password=os.getenv(\"SERVERLESS_CLUSTER_PASSWORD\"),\n",
                "    database=os.getenv(\"SERVERLESS_CLUSTER_DATABASE_NAME\"),\n",
                "    enable_ssl=True,\n",
                ")\n",
                "\n",
                "embedding_model = \"bedrock/amazon.titan-embed-text-v2:0\"\n",
                "\n",
                "text_embedding_function = EmbeddingFunction(\n",
                "    embedding_model,\n",
                "    timeout=60\n",
                ")"
            ]
        },
        {
            "cell_type": "markdown",
            "metadata": {
                "id": "ljUtiXcIr3qr"
            },
            "source": [
                "## 准备上下文\n",
                "\n",
                "和模块 1 类似，我们创建了 `documents` 表，但这次我们通过如下代码新增了一个索引：\n",
                "\n",
                "```python\n",
                "table.create_fts_index(\"text\")\n",
                "```\n",
                "\n",
                "它会基于 `text` 列创建一个全文检索索引。"
            ]
        },
        {
            "cell_type": "code",
            "execution_count": null,
            "metadata": {
                "colab": {
                    "base_uri": "https://localhost:8080/",
                    "height": 211
                },
                "id": "w57jSq94r6MI",
                "outputId": "5bc64f3e-d527-4fd3-8430-9ad3e214756e"
            },
            "outputs": [],
            "source": [
                "table_name = \"documents\"\n",
                "class Document(TableModel, table=True):\n",
                "    __tablename__ = table_name\n",
                "    __table_args__ = {\"extend_existing\": True}\n",
                "    id: int | None = Field(default=None, primary_key=True)\n",
                "    text: str = Field(max_length=1024)\n",
                "    embedding: Optional[Any] = text_embedding_function.VectorField(\n",
                "        source_field=\"text\",\n",
                "    )\n",
                "\n",
                "documents = [\n",
                "    Document(id=1, text=\"TiDB is an open-source distributed SQL database that supports Hybrid Transactional and Analytical Processing (HTAP) workloads.\"),\n",
                "    Document(id=2, text=\"TiFlash is the key component that makes TiDB essentially an Hybrid Transactional/Analytical Processing (HTAP) database. As a columnar storage extension of TiKV, TiFlash provides both good isolation level and strong consistency guarantee.\"),\n",
                "    Document(id=3, text=\"TiKV is a distributed and transactional key-value database, which provides transactional APIs with ACID compliance. With the implementation of the Raft consensus algorithm and consensus state stored in RocksDB, TiKV guarantees data consistency between multiple replicas and high availability. \"),\n",
                "]\n",
                "\n",
                "table = db.create_table(schema=Document, if_exists=\"overwrite\")\n",
                "\n",
                "table.create_fts_index(\"text\")\n",
                "\n",
                "table.bulk_insert(documents)\n",
                "db.execute(\"ALTER TABLE documents COMPACT\")"
            ]
        },
        {
            "cell_type": "markdown",
            "metadata": {
                "id": "EPwrKVCas6Xe"
            },
            "source": [
                "## 混合检索获取内容\n",
                "\n",
                "这一次，我们不仅通过向量的余弦距离获取相关文档，还结合了 BM25 分数。然后我们使用融合方法合并结果集。\n",
                "\n",
                "不过你无需手动实现，`pytidb` 已经帮你做好了。你只需要通过 `search_type=\"hybrid\"` 并指定 `text_column` 即可检索，例如：\n",
                "\n"
            ]
        },
        {
            "cell_type": "code",
            "execution_count": null,
            "metadata": {
                "id": "xGfQ6s_6sjtq"
            },
            "outputs": [],
            "source": [
                "question = \"What is TiKV?\"\n",
                "\n",
                "results = table.search(question, search_type=\"hybrid\").text_column(\"text\").limit(1)\n",
                "results.to_pandas()"
            ]
        },
        {
            "cell_type": "markdown",
            "metadata": {
                "id": "rvNWRI7CuAGy"
            },
            "source": [
                "## 生成答案"
            ]
        },
        {
            "cell_type": "code",
            "execution_count": null,
            "metadata": {
                "id": "XI1gHrC7t_Fb"
            },
            "outputs": [],
            "source": [
                "from litellm import completion\n",
                "\n",
                "llm_model = \"bedrock/us.amazon.nova-lite-v1:0\"\n",
                "\n",
                "messages = [\n",
                "    {\"role\": \"system\", \"content\": f\"Please carefully answer the question by {str(results)}\"},\n",
                "    {\"role\": \"user\", \"content\": question}\n",
                "]\n",
                "\n",
                "llm_response = completion(\n",
                "    model=llm_model,\n",
                "    messages=messages,\n",
                ")\n",
                "\n",
                "print(llm_response.choices[0].message.content)"
            ]
        }
    ],
    "metadata": {
        "colab": {
            "provenance": [],
            "toc_visible": true
        },
        "kernelspec": {
            "display_name": "Python 3",
            "name": "python3"
        },
        "language_info": {
            "name": "python"
        }
    },
    "nbformat": 4,
    "nbformat_minor": 0
}
