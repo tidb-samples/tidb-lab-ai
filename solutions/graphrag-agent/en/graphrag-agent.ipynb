{
  "cells": [
    {
      "cell_type": "markdown",
      "metadata": {
        "id": "iJNvS5yPF1Iu"
      },
      "source": [
        "# Build an Agent with GraphRAG and Tool Calling based on TiDB"
      ]
    },
    {
      "cell_type": "markdown",
      "metadata": {
        "id": "ZHPQglSgMn0D"
      },
      "source": [
        "![image.png](https://lab-static.pingcap.com/images/2025/8/28/de762b23b7be6dde39a9c4192bcbbbdc2ef6c63f.png)"
      ]
    },
    {
      "cell_type": "markdown",
      "metadata": {
        "id": "UxbgxnpgFtVu"
      },
      "source": [
        "## Prerequisites"
      ]
    },
    {
      "cell_type": "markdown",
      "metadata": {
        "id": "dxfRQIuuJY5p"
      },
      "source": [
        "### Install Dependencies\n",
        "\n",
        "Install the Python SDK for TiDB"
      ]
    },
    {
      "cell_type": "code",
      "execution_count": null,
      "metadata": {
        "id": "8uDtSuuqAMLK"
      },
      "outputs": [],
      "source": [
        "%pip install -q pytidb==0.0.9 pytidb[models]==0.0.9 openai yfinance"
      ]
    },
    {
      "cell_type": "markdown",
      "metadata": {
        "id": "tdTmOfAMnayd"
      },
      "source": [
        "Install dependencies to build and visualize the knowledge graph"
      ]
    },
    {
      "cell_type": "code",
      "execution_count": null,
      "metadata": {
        "id": "1T9UR57nnahX"
      },
      "outputs": [],
      "source": [
        "%pip install -q dspy pyvis dotenv matplotlib"
      ]
    },
    {
      "cell_type": "markdown",
      "metadata": {},
      "source": [
        "### Configure Secrets\n",
        "\n",
        "Before you begin, ensure you have an **OpenAI API key**. Please follow the [OpenAI platform](https://platform.openai.com/account/api-keys) to get one if you do not have one yet."
      ]
    },
    {
      "cell_type": "code",
      "execution_count": null,
      "metadata": {},
      "outputs": [],
      "source": [
        "import os\n",
        "from getpass import getpass\n",
        "import dotenv\n",
        "\n",
        "dotenv.load_dotenv()\n",
        "\n",
        "if \"OPENAI_API_KEY\" not in os.environ:\n",
        "    openai_api_key = getpass(\"OpenAI API Key:\")\n",
        "    os.environ['OPENAI_API_KEY'] = openai_api_key"
      ]
    },
    {
      "cell_type": "markdown",
      "metadata": {
        "id": "am9GyBq3T__A"
      },
      "source": [
        "## Prepare company data"
      ]
    },
    {
      "cell_type": "markdown",
      "metadata": {
        "id": "n9_12gIST8_N"
      },
      "source": [
        "### Step 1. Connect to TiDB"
      ]
    },
    {
      "cell_type": "code",
      "execution_count": null,
      "metadata": {
        "id": "16Rhpek9T6Kl"
      },
      "outputs": [],
      "source": [
        "from pytidb import TiDBClient\n",
        "\n",
        "db = TiDBClient.connect(\n",
        "    host=os.getenv(\"SERVERLESS_CLUSTER_HOST\"),\n",
        "    port=int(os.getenv(\"SERVERLESS_CLUSTER_PORT\")),\n",
        "    username=os.getenv(\"SERVERLESS_CLUSTER_USERNAME\"),\n",
        "    password=os.getenv(\"SERVERLESS_CLUSTER_PASSWORD\"),\n",
        "    database=os.getenv(\"SERVERLESS_CLUSTER_DATABASE_NAME\"),\n",
        "    ensure_db=True\n",
        ")"
      ]
    },
    {
      "cell_type": "markdown",
      "metadata": {
        "id": "AZLgGrfAUS5U"
      },
      "source": [
        "### Step 2. Define Embedding Function\n",
        "\n"
      ]
    },
    {
      "cell_type": "markdown",
      "metadata": {
        "id": "Lfzj8fKezcwU"
      },
      "source": [
        "PyTiDB provides an [automatic embedding](https://pingcap.github.io/ai/guides/auto-embedding/) feature. You can insert raw data, and pytidb will automatically generate embeddings based on the configuration and fill the corresponding vector fields.\n",
        "\n",
        "To enable this feature, you first need to define an `EmbeddingFunction`."
      ]
    },
    {
      "cell_type": "code",
      "execution_count": null,
      "metadata": {
        "colab": {
          "base_uri": "https://localhost:8080/"
        },
        "id": "rYpDfPSrUoO4",
        "outputId": "1fc47ad0-8564-49d9-c798-2aa5b8c5bca4"
      },
      "outputs": [],
      "source": [
        "from pytidb.embeddings import EmbeddingFunction\n",
        "\n",
        "openai_embed = EmbeddingFunction(\n",
        "    model_name=\"openai/text-embedding-3-small\",\n",
        "    api_key=os.getenv(\"OPENAI_API_KEY\")\n",
        ")\n",
        "openai_embed.dimensions"
      ]
    },
    {
      "cell_type": "markdown",
      "metadata": {
        "id": "T39OEzsVUX2n"
      },
      "source": [
        "### Step 3. Create data models and tables"
      ]
    },
    {
      "cell_type": "markdown",
      "metadata": {
        "id": "q_JidpeiMzN9"
      },
      "source": [
        "**Drop the existing tables**"
      ]
    },
    {
      "cell_type": "code",
      "execution_count": null,
      "metadata": {
        "id": "flHxhlJ1OIOF"
      },
      "outputs": [],
      "source": [
        "reset_tables = True\n",
        "if reset_tables:\n",
        "  db.execute(\"DROP TABLE IF EXISTS company_data;\")\n",
        "  db.execute(\"DROP TABLE IF EXISTS relationships;\")\n",
        "  db.execute(\"DROP TABLE IF EXISTS entities;\")"
      ]
    },
    {
      "cell_type": "markdown",
      "metadata": {
        "id": "rvNCHdJx4ee_"
      },
      "source": [
        "**Create data models and tables:**\n",
        "\n",
        "For pytidb, you can add a `VectorField` to store vector embeddings, and a `FullTextField` to store the searchable text.\n",
        "\n",
        "> **NOTE:** The initial setup of vector and full-text indexes may take some time."
      ]
    },
    {
      "cell_type": "code",
      "execution_count": null,
      "metadata": {
        "id": "PE29X34dTbA2"
      },
      "outputs": [],
      "source": [
        "from typing import Optional, List, Dict, Any\n",
        "from datetime import datetime\n",
        "\n",
        "from pytidb.schema import TableModel, Field, FullTextField, Column, Relationship as SQLRelationship\n",
        "from pytidb.datatype import JSON, DateTime, TEXT\n",
        "from sqlalchemy.dialects.mysql import YEAR\n",
        "from pytidb.sql import func\n",
        "\n",
        "\n",
        "# Create a `company_data` table to store the basic information of the companies and their embeddings.\n",
        "class CompanyData(TableModel):\n",
        "    __tablename__ = \"company_data\"\n",
        "    __table_args__ = {\"extend_existing\": \"True\"}\n",
        "\n",
        "    vector_hash: str = Field(max_length=128, primary_key=True)\n",
        "    company_name: Optional[str] = Field(max_length=255)\n",
        "    name: Optional[str] = Field(max_length=255)\n",
        "    stock_ticker: Optional[str] = Field(max_length=10)\n",
        "    # 👇 Add a full-text field to store the text need to be searched.\n",
        "    description: Optional[str] = FullTextField(sa_type=TEXT)\n",
        "    industries: Optional[str] = Field(max_length=255)\n",
        "    headquarters: Optional[str] = Field(sa_type=TEXT)\n",
        "    specialties: Optional[str] = Field(sa_type=TEXT)\n",
        "    employees: Optional[int]\n",
        "    founded: Optional[int] = Field(sa_type=YEAR)\n",
        "    linkedin_url: Optional[str] = Field(max_length=512)\n",
        "    website_url: Optional[str] = Field(max_length=512)\n",
        "    organization_type: Optional[str] = Field(max_length=64)\n",
        "    company_size: Optional[int]\n",
        "    followers: Optional[int]\n",
        "    slogan: Optional[str]\n",
        "    locations: Optional[Dict[str, Any]] = Field(sa_type=JSON)\n",
        "    formatted_locations: Optional[Dict[str, Any]] = Field(sa_type=JSON)\n",
        "    logo: Optional[str] = Field(max_length=512)\n",
        "    image: Optional[str] = Field(max_length=512)\n",
        "    country_code: Optional[str] = Field(max_length=10)\n",
        "    funding: Optional[Dict[str, Any]] = Field(sa_type=JSON)\n",
        "    investors: Optional[List[Dict[str, Any]]] = Field(sa_type=JSON)\n",
        "    crunchbase_url: Optional[str]\n",
        "    ai_summary: Optional[str] = Field(sa_type=TEXT)\n",
        "    about: Optional[str] = Field(sa_type=TEXT)\n",
        "    similar: Optional[str]\n",
        "    # 👇 Add a vector field to store the vector embedding generated by OpenAI.\n",
        "    embedding: Optional[List[float]] = openai_embed.VectorField(\n",
        "        source_field=\"ai_summary\",\n",
        "    )\n",
        "    created_at: Optional[datetime] = Field(\n",
        "        sa_column=Column(\n",
        "            DateTime(timezone=False), server_default=func.now(), nullable=True\n",
        "        )\n",
        "    )\n",
        "    updated_at: Optional[datetime] = Field(\n",
        "        sa_column=Column(\n",
        "            DateTime(timezone=False), server_default=func.now(), onupdate=func.now(), nullable=True\n",
        "        )\n",
        "    )\n",
        "\n",
        "company_table = db.create_table(schema=CompanyData, mode=\"exist_ok\")\n",
        "\n",
        "\n",
        "# Create `entities` table to store the entities extracted from the company information.\n",
        "class DBEntity(TableModel):\n",
        "    __tablename__ = \"entities\"\n",
        "    __table_args__ = {\"extend_existing\": \"True\"}\n",
        "\n",
        "    id: int = Field(default=None, primary_key=True)\n",
        "    name: str = Field(default=None)\n",
        "    description: str = Field(default=None, sa_type=TEXT)\n",
        "    embedding: List[float] = openai_embed.VectorField(\n",
        "        source_field=\"entity_str\"\n",
        "    )\n",
        "    meta: dict = Field(sa_type=JSON, default_factory=dict)\n",
        "\n",
        "    @property\n",
        "    def entity_str(self):\n",
        "        return f\"{self.name}: {self.description}\"\n",
        "\n",
        "entity_table = db.create_table(schema=DBEntity, mode=\"exist_ok\")\n",
        "\n",
        "\n",
        "# Create `relationships` table to store the relationship between entities.\n",
        "class DBRelationship(TableModel):\n",
        "    __tablename__ = \"relationships\"\n",
        "    __table_args__ = {\"extend_existing\": \"True\"}\n",
        "\n",
        "    id: int = Field(default=None, primary_key=True)\n",
        "    source_entity_id: int = Field(foreign_key=\"entities.id\")\n",
        "    target_entity_id: int = Field(foreign_key=\"entities.id\")\n",
        "    relationship_desc: str = Field(default=None, sa_type=TEXT)\n",
        "    embedding: Optional[List[float]] = openai_embed.VectorField(\n",
        "        source_field=\"relationship_desc\"\n",
        "    )\n",
        "    source_entity: DBEntity = SQLRelationship(\n",
        "        sa_relationship_kwargs={\n",
        "            \"primaryjoin\": f\"DBRelationship.source_entity_id == DBEntity.id\",\n",
        "            \"lazy\": \"joined\",\n",
        "        },\n",
        "    )\n",
        "    target_entity: DBEntity = SQLRelationship(\n",
        "        sa_relationship_kwargs={\n",
        "            \"primaryjoin\": f\"DBRelationship.target_entity_id == DBEntity.id\",\n",
        "            \"lazy\": \"joined\",\n",
        "        },\n",
        "    )\n",
        "\n",
        "    @property\n",
        "    def source_name(self) -> str:\n",
        "        return self.source_entity.name\n",
        "\n",
        "    @property\n",
        "    def target_name(self) -> str:\n",
        "        return self.target_entity.name\n",
        "\n",
        "relationship_table = db.create_table(schema=DBRelationship, mode=\"exist_ok\")"
      ]
    },
    {
      "cell_type": "markdown",
      "metadata": {
        "id": "EqyDiRFayxvh"
      },
      "source": [
        "### Step 4. Insert sample company data"
      ]
    },
    {
      "cell_type": "markdown",
      "metadata": {
        "id": "nfwGcYEg4QLy"
      },
      "source": [
        "Before inserting sample data, you can clear all the existing data in the `company_data` table to make it clean."
      ]
    },
    {
      "cell_type": "code",
      "execution_count": null,
      "metadata": {
        "id": "wJwJGi2K4MDY"
      },
      "outputs": [],
      "source": [
        "company_table.delete(\"vector_hash is not null\")"
      ]
    },
    {
      "cell_type": "markdown",
      "metadata": {
        "id": "FRQOqvEl4MnK"
      },
      "source": [
        "Bulk insert sample company data, the embedding field will be filled automatically."
      ]
    },
    {
      "cell_type": "code",
      "execution_count": null,
      "metadata": {
        "colab": {
          "base_uri": "https://localhost:8080/"
        },
        "id": "V8tkpmsayxit",
        "outputId": "8f4da9b9-987a-4d28-b5d9-ed78099e4feb"
      },
      "outputs": [],
      "source": [
        "company_table.bulk_insert([\n",
        "    CompanyData(\n",
        "        vector_hash=\"222f53a93827ece3d9a9cf0e918b112d495090a29e2a0248b6501a99bc4f6ffd\",\n",
        "        company_name=\"Apple Inc.\",\n",
        "        stock_ticker=\"AAPL\",\n",
        "        description=\"Apple Inc. is an American multinational technology company that specializes in consumer electronics, computer software, and online services. Apple is the world's largest technology company by revenue and one of the world's most valuable companies.\",\n",
        "        industries=\"Technology Hardware, Storage & Peripherals\",\n",
        "        headquarters=\"Cupertino, California, United States\",\n",
        "        specialties=\"iPhone, iPad, Mac, Apple Watch, AirPods, iOS, macOS, App Store, iCloud, Apple Music\",\n",
        "        employees=164000,\n",
        "        founded=1976,\n",
        "        linkedin_url=\"https://www.linkedin.com/company/apple/\",\n",
        "        website_url=\"https://www.apple.com\",\n",
        "        logo=\"https://www.apple.com/ac/structured-data/images/knowledge_graph_logo.png\",\n",
        "        ai_summary=\"Apple Inc. is a leading technology company founded in 1976 by Steve Jobs, Steve Wozniak, and Ronald Wayne. Headquartered in Cupertino, California, Apple designs, manufactures, and markets smartphones, personal computers, tablets, wearables, and accessories. The company is known for its innovative products including the iPhone, iPad, Mac computers, Apple Watch, and AirPods. Apple also provides digital services through the App Store, iCloud, Apple Music, and other platforms.\",\n",
        "    ),\n",
        "    CompanyData(\n",
        "        vector_hash=\"d77a83042ab8aa1a904359e7335bc6efa1d47bb38bab98b34ffc54a0e7fab16c\",\n",
        "        company_name=\"Microsoft Corporation\",\n",
        "        stock_ticker=\"MSFT\",\n",
        "        description=\"Microsoft Corporation is an American multinational technology company that produces computer software, consumer electronics, personal computers, and related services. Microsoft is known for its Windows operating system, Office productivity suite, and Azure cloud platform.\",\n",
        "        industries=\"Software—Infrastructure\",\n",
        "        headquarters=\"Redmond, Washington, United States\",\n",
        "        specialties=\"Windows, Microsoft Office, Azure, Xbox, Surface, Visual Studio, Teams, LinkedIn\",\n",
        "        employees=221000,\n",
        "        founded=1975,\n",
        "        linkedin_url=\"https://www.linkedin.com/company/microsoft/\",\n",
        "        website_url=\"https://www.microsoft.com\",\n",
        "        logo=\"https://img-prod-cms-rt-microsoft-com.akamaized.net/cms/api/am/imageFileData/RE1Mu3b\",\n",
        "        ai_summary=\"Microsoft Corporation is a multinational technology company founded in 1975 by Bill Gates and Paul Allen. Based in Redmond, Washington, Microsoft develops, manufactures, licenses, supports, and sells computer software, consumer electronics, personal computers, and related services. The company is best known for its Windows operating systems, Microsoft Office suite, and Azure cloud computing platform.\",\n",
        "    ),\n",
        "    CompanyData(\n",
        "        vector_hash=\"d745543f1fd7ec0985bded9d6800d10069280c0ad32c1a1f7f4c729f3352a8f5\",\n",
        "        company_name=\"Google (Alphabet Inc.)\",\n",
        "        stock_ticker=\"GOOGL\",\n",
        "        description=\"Alphabet Inc. is an American multinational technology conglomerate holding company headquartered in Mountain View, California. It was created through a restructuring of Google on October 2, 2015, and became the parent company of Google and several former Google subsidiaries.\",\n",
        "        industries=\"Internet Content & Information\",\n",
        "        headquarters=\"Mountain View, California, United States\",\n",
        "        specialties=\"Search, Advertising, Cloud Computing, YouTube, Android, Chrome, Google Workspace, AI, Machine Learning\",\n",
        "        employees=182502,\n",
        "        founded=1998,\n",
        "        linkedin_url=\"https://www.linkedin.com/company/google/\",\n",
        "        website_url=\"https://abc.xyz/\",\n",
        "        logo=\"https://www.google.com/images/branding/googlelogo/1x/googlelogo_color_272x92dp.png\",\n",
        "        ai_summary=\"Alphabet Inc., formerly known as Google, is a multinational technology conglomerate founded in 1998 by Larry Page and Sergey Brin. The company operates the world's most popular search engine and provides a wide range of internet-related services and products, including online advertising technologies, cloud computing, software, and hardware. Google's main products include Search, YouTube, Android, Chrome browser, and Google Cloud Platform.\",\n",
        "    ),\n",
        "    CompanyData(\n",
        "        vector_hash=\"d4e5f6789012345678901234567890abcdef1234567890abcdef1234567890abcd\",\n",
        "        company_name=\"Amazon.com Inc.\",\n",
        "        stock_ticker=\"AMZN\",\n",
        "        description=\"Amazon.com, Inc. is an American multinational technology company which focuses on e-commerce, cloud computing, digital streaming, and artificial intelligence. It has been referred to as one of the most influential economic and cultural forces in the world.\",\n",
        "        industries=\"Internet Retail\",\n",
        "        headquarters=\"Seattle, Washington, United States\",\n",
        "        specialties=\"E-commerce, Cloud Computing, Digital Streaming, Artificial Intelligence, AWS, Prime, Alexa, Logistics\",\n",
        "        employees=1541000,\n",
        "        founded=1994,\n",
        "        linkedin_url=\"https://www.linkedin.com/company/amazon/\",\n",
        "        website_url=\"https://www.amazon.com\",\n",
        "        logo=\"https://logo.clearbit.com/amazon.com\",\n",
        "        ai_summary=\"Amazon.com, Inc. is a multinational technology company founded in 1994 by Jeff Bezos. Starting as an online bookstore, Amazon has evolved into one of the world's largest e-commerce and cloud computing companies. The company operates through three main segments: North America, International, and Amazon Web Services (AWS). Amazon is known for its customer-centric approach, innovation in logistics, and cloud computing leadership through AWS.\"\n",
        "    ),\n",
        "    CompanyData(\n",
        "        vector_hash=\"a9775c122d0ecae9b6d67d1b42ee71190fc2300ed0b94326f95ff452e7cc25bb\",\n",
        "        company_name=\"Oracle Corporation\",\n",
        "        stock_ticker=\"ORCL\",\n",
        "        description=\"Oracle Corporation is a multinational technology company that specializes in developing and marketing database software and technology, cloud engineered systems, and enterprise software products.\",\n",
        "        industries=\"Enterprise Software, Database Technology, Cloud Computing\",\n",
        "        headquarters=\"Austin, Texas, United States\",\n",
        "        specialties=\"Oracle Database, MySQL, Java, Cloud Infrastructure, Enterprise Applications, ERP Systems, CRM Solutions, Cloud Services\",\n",
        "        employees=164000,\n",
        "        founded=1977,\n",
        "        linkedin_url=\"https://www.linkedin.com/company/oracle/\",\n",
        "        website_url=\"https://www.oracle.com\",\n",
        "        logo=\"https://www.oracle.com/a/ocom/img/oracle-logo.svg\",\n",
        "        ai_summary = (\n",
        "          \"Oracle Corporation, founded in 1977 and based in Austin, Texas, \"\n",
        "          \"is a global leader in database technology, cloud computing, and enterprise software. \"\n",
        "          \"Its flagship product is Oracle Database. In 2009, Oracle acquired MySQL by purchasing Sun Microsystems. \"\n",
        "          \"The company offers cloud infrastructure, ERP systems, CRM solutions, and various enterprise applications. \"\n",
        "          \"Serving over 430,000 customers worldwide with around 164,000 employees, \"\n",
        "          \"Oracle has been a dominant player in the enterprise software market for decades \"\n",
        "          \"and continues to grow its cloud services to compete with major providers.\"\n",
        "      )\n",
        "    ),\n",
        "    CompanyData(\n",
        "        vector_hash=\"0b6949174c686059cdfc61a1b905a0eacca17f63f703f9ec097be07dda67c7d2\",\n",
        "        company_name=\"Tesla, Inc.\",\n",
        "        stock_ticker=\"TSLA\",\n",
        "        description=\"Tesla, Inc. is an American multinational automotive and clean energy company headquartered in Austin, Texas. Tesla designs and manufactures electric vehicles, battery energy storage systems, and solar panels.\",\n",
        "        industries=\"Auto Manufacturers\",\n",
        "        headquarters=\"Austin, Texas, United States\",\n",
        "        specialties=\"Electric Vehicles, Energy Storage, Solar Panels, Autonomous Driving, Supercharger Network, Model S, Model 3, Model X, Model Y\",\n",
        "        employees=140473,\n",
        "        founded=2003,\n",
        "        linkedin_url=\"https://www.linkedin.com/company/tesla-motors/\",\n",
        "        website_url=\"https://www.tesla.com\",\n",
        "        logo=\"https://logo.clearbit.com/tesla.com\",\n",
        "        ai_summary=\"Tesla, Inc. is an electric vehicle and clean energy company founded in 2003 by Martin Eberhard and Marc Tarpenning, with Elon Musk joining as chairman in 2004. Based in Austin, Texas, Tesla is known for its electric vehicles including the Model S, 3, X, and Y, as well as energy storage systems and solar panels. The company has revolutionized the automotive industry with its focus on sustainable transportation and autonomous driving technology.\"\n",
        "    ),\n",
        "    CompanyData(\n",
        "        vector_hash=\"827a4366f31cdf14d67c8e85555fa15d4641654095e91a25f34434d712986d12\",\n",
        "        company_name=\"Meta Platforms, Inc.\",\n",
        "        stock_ticker=\"META\",\n",
        "        description=\"Meta Platforms, Inc., doing business as Meta and formerly named Facebook, Inc., is an American multinational technology conglomerate based in Menlo Park, California. The company owns and operates Facebook, Instagram, Threads, and WhatsApp.\",\n",
        "        industries=\"Internet Content & Information\",\n",
        "        headquarters=\"Menlo Park, California, United States\",\n",
        "        specialties=\"Social Media, Virtual Reality, Augmented Reality, Metaverse, Facebook, Instagram, WhatsApp, Oculus, AI Research\",\n",
        "        employees=86482,\n",
        "        founded=2004,\n",
        "        linkedin_url=\"https://www.linkedin.com/company/meta/\",\n",
        "        website_url=\"https://about.meta.com\",\n",
        "        logo=\"https://logo.clearbit.com/meta.com\",\n",
        "        ai_summary=\"Meta Platforms, Inc., formerly Facebook, Inc., is a multinational technology company founded in 2004 by Mark Zuckerberg. Based in Menlo Park, California, Meta operates the world's largest social media platforms including Facebook, Instagram, WhatsApp, and Threads. The company is also investing heavily in virtual and augmented reality technologies as part of its vision for the metaverse.\"\n",
        "    ),\n",
        "    CompanyData(\n",
        "        vector_hash=\"59a4745cd42a0e5a08c234906eae37de8617743572054b36bf51ae8793f08d74\",\n",
        "        company_name=\"NVIDIA Corporation\",\n",
        "        stock_ticker=\"NVDA\",\n",
        "        description=\"NVIDIA Corporation is an American multinational technology company incorporated in Delaware and based in Santa Clara, California. It is a software and fabless company which designs graphics processing units (GPUs), application programming interfaces (APIs) for data science and high-performance computing.\",\n",
        "        industries=\"Semiconductors\",\n",
        "        headquarters=\"Santa Clara, California, United States\",\n",
        "        specialties=\"Graphics Processing Units, Artificial Intelligence, Data Centers, Gaming, Autonomous Vehicles, Deep Learning, CUDA\",\n",
        "        employees=29600,\n",
        "        founded=1993,\n",
        "        linkedin_url=\"https://www.linkedin.com/company/nvidia/\",\n",
        "        website_url=\"https://www.nvidia.com\",\n",
        "        logo=\"https://logo.clearbit.com/nvidia.com\",\n",
        "        ai_summary=\"NVIDIA Corporation is a multinational technology company founded in 1993 by Jensen Huang, Chris Malachowsky, and Curtis Priem. Based in Santa Clara, California, NVIDIA is a pioneer in GPU technology and has become a leader in artificial intelligence computing. The company's GPUs are widely used in gaming, data centers, and AI applications, making it one of the most valuable semiconductor companies in the world.\"\n",
        "    ),\n",
        "    CompanyData(\n",
        "        vector_hash=\"83f2e90b806c2e162a9f5c8ad54e02712f3113d8ffd2312db01a4f709723f9dd\",\n",
        "        company_name=\"Netflix, Inc.\",\n",
        "        stock_ticker=\"NFLX\",\n",
        "        description=\"Netflix, Inc. is an American subscription streaming service and production company based in Los Gatos, California. Netflix was founded in 1997 by Reed Hastings and Marc Randolph and is now available in over 190 countries.\",\n",
        "        industries=\"Entertainment\",\n",
        "        headquarters=\"Los Gatos, California, United States\",\n",
        "        specialties=\"Streaming Video, Original Content Production, Technology Platform, Global Entertainment, Data Analytics\",\n",
        "        employees=13000,\n",
        "        founded=1997,\n",
        "        linkedin_url=\"https://www.linkedin.com/company/netflix/\",\n",
        "        website_url=\"https://www.netflix.com\",\n",
        "        logo=\"https://logo.clearbit.com/netflix.com\",\n",
        "        ai_summary=\"Netflix, Inc. is a streaming entertainment service founded in 1997 by Reed Hastings and Marc Randolph. Originally a DVD-by-mail service, Netflix transformed into a streaming platform and became a global leader in entertainment. The company is known for its original content production including series like Stranger Things, The Crown, and Squid Game, serving over 230 million subscribers worldwide.\"\n",
        "    ),\n",
        "    CompanyData(\n",
        "        vector_hash=\"b516acc08247f7479faa864ad0138644a574f804061e73ed658cf46edb22f9d6\",\n",
        "        company_name=\"Intel Corporation\",\n",
        "        stock_ticker=\"INTC\",\n",
        "        description=\"Intel Corporation is an American multinational corporation and technology company headquartered in Santa Clara, California. Intel designs and manufactures microprocessors for computer systems and other electronic devices.\",\n",
        "        industries=\"Semiconductors\",\n",
        "        headquarters=\"Santa Clara, California, United States\",\n",
        "        specialties=\"Microprocessors, Semiconductors, Data Centers, AI Chips, IoT Solutions, Autonomous Driving, 5G Technology\",\n",
        "        employees=121100,\n",
        "        founded=1968,\n",
        "        linkedin_url=\"https://www.linkedin.com/company/intel-corporation/\",\n",
        "        website_url=\"https://www.intel.com\",\n",
        "        logo=\"https://logo.clearbit.com/intel.com\",\n",
        "        ai_summary=\"Intel Corporation is a multinational technology company founded in 1968 by Robert Noyce and Gordon Moore. Based in Santa Clara, California, Intel is one of the world's largest semiconductor companies, best known for its x86 microprocessors found in most personal computers. The company has been a pioneer in semiconductor manufacturing and continues to innovate in areas such as data centers, artificial intelligence, and autonomous driving technology.\"\n",
        "    ),\n",
        "    CompanyData(\n",
        "        vector_hash=\"c9875d436bb12f89a3c7e8d456789012ab34567890cd567890ef1234567890ab\",\n",
        "        company_name=\"Salesforce, Inc.\",\n",
        "        stock_ticker=\"CRM\",\n",
        "        description=\"Salesforce, Inc. is an American cloud-based software company headquartered in San Francisco, California. It provides customer relationship management (CRM) software and applications focused on sales, customer service, marketing automation, e-commerce, analytics, and application development.\",\n",
        "        industries=\"Software—Application\",\n",
        "        headquarters=\"San Francisco, California, United States\",\n",
        "        specialties=\"CRM, Cloud Computing, Sales Automation, Marketing Automation, Customer Service, Analytics, AI Platform, Trailhead\",\n",
        "        employees=79390,\n",
        "        founded=1999,\n",
        "        linkedin_url=\"https://www.linkedin.com/company/salesforce/\",\n",
        "        website_url=\"https://www.salesforce.com\",\n",
        "        logo=\"https://logo.clearbit.com/salesforce.com\",\n",
        "        ai_summary=\"Salesforce, Inc. is a cloud-based software company founded in 1999 by Marc Benioff and Parker Harris. Based in San Francisco, California, Salesforce pioneered the Software-as-a-Service (SaaS) model and is the world's leading customer relationship management (CRM) platform. The company provides a comprehensive suite of cloud-based applications for sales, service, marketing, and more, serving businesses of all sizes globally.\"\n",
        "    ),\n",
        "])\n",
        "\n",
        "print(f\"Number of companies: {company_table.rows()}\")"
      ]
    },
    {
      "cell_type": "markdown",
      "metadata": {
        "id": "cgJ9z2D0_mY8"
      },
      "source": [
        "### Step 5. Perform vector search"
      ]
    },
    {
      "cell_type": "code",
      "execution_count": null,
      "metadata": {
        "colab": {
          "base_uri": "https://localhost:8080/",
          "height": 536
        },
        "id": "lod4LnhCzKNl",
        "outputId": "6188fe71-e623-4a91-c68b-365ab7b6866f"
      },
      "outputs": [],
      "source": [
        "vector_results = company_table.search(\"Companies in health industry\", search_type=\"vector\").limit(10).to_pandas()\n",
        "\n",
        "vector_results[['vector_hash', 'company_name', 'description', 'embedding', '_distance', '_score']]"
      ]
    },
    {
      "cell_type": "markdown",
      "metadata": {
        "id": "4jimS_9i89Ju"
      },
      "source": [
        "The `_distance` field in the search result represents the distance between the query and the matched document in the vector space. A smaller _distance means higher similarity and better relevance to your search.\n",
        "\n",
        "For more details, see the [Vector Search](https://pingcap.github.io/ai/guides/vector-search/) section in the PyTiDB docs."
      ]
    },
    {
      "cell_type": "markdown",
      "metadata": {
        "id": "32_q9ugIS8by"
      },
      "source": [
        "## Build GraphRAG Step-by-step\n",
        "\n"
      ]
    },
    {
      "cell_type": "markdown",
      "metadata": {
        "id": "OeF0p_iLs-d6"
      },
      "source": [
        "### Step 1. Setup OpenAI for dspy"
      ]
    },
    {
      "cell_type": "markdown",
      "metadata": {
        "id": "sNB0E5VutQPs"
      },
      "source": [
        "Use Dspy as the AI framework to construct and manage prompts for the AI."
      ]
    },
    {
      "cell_type": "code",
      "execution_count": null,
      "metadata": {
        "id": "cy1pStgrs-2h"
      },
      "outputs": [],
      "source": [
        "import dspy\n",
        "\n",
        "open_ai = dspy.LM(\n",
        "    model=\"gpt-4o\",\n",
        "    api_key=os.getenv(\"OPENAI_API_KEY\"),\n",
        "    max_tokens=4096\n",
        ")\n",
        "dspy.settings.configure(lm=open_ai)"
      ]
    },
    {
      "cell_type": "markdown",
      "metadata": {
        "id": "oeuWs-xwCTq3"
      },
      "source": [
        "### Step 2. Define Knowledge Graph Utils"
      ]
    },
    {
      "cell_type": "markdown",
      "metadata": {
        "id": "5rzduR4ATXnk"
      },
      "source": [
        "#### extract_knowledge_graph"
      ]
    },
    {
      "cell_type": "markdown",
      "metadata": {
        "id": "Yw9iA0fywW5I"
      },
      "source": [
        "We use **dspy** to build a module that extracts key business entities and their relationships from company profile texts, automatically constructing a structured **business knowledge graph**. This helps capture companies, products, industries, customers, and ecosystem connections for better understanding of the business landscape."
      ]
    },
    {
      "cell_type": "code",
      "execution_count": null,
      "metadata": {
        "id": "Fln1akIRTjUw"
      },
      "outputs": [],
      "source": [
        "from pydantic import BaseModel, Field\n",
        "import dspy\n",
        "\n",
        "class Entity(BaseModel):\n",
        "    \"\"\"List of entities extracted from the text to form the knowledge graph\"\"\"\n",
        "\n",
        "    name: str = Field(\n",
        "        description=\"Name of the entity, it should be a clear and concise term\"\n",
        "    )\n",
        "    description: str = Field(\n",
        "        description=(\n",
        "            \"Description of the entity, it should be a complete and comprehensive sentence, not few words. \"\n",
        "            \"Sample description of entity 'PingCAP': \"\n",
        "            \"'PingCAP is a leading distributed SQL database company founded in 2015, headquartered in Sunnyvale, California, and has over 500 employees.'\"\n",
        "        )\n",
        "    )\n",
        "\n",
        "\n",
        "class Relationship(BaseModel):\n",
        "    \"\"\"List of relationships extracted from the text to form the knowledge graph\"\"\"\n",
        "\n",
        "    source_name: str = Field(\n",
        "        description=\"Source entity name of the relationship, it should an existing entity in the Entity list\"\n",
        "    )\n",
        "    target_name: str = Field(\n",
        "        description=\"Target entity name of the relationship, it should an existing entity in the Entity list\"\n",
        "    )\n",
        "    relationship_desc: str = Field(\n",
        "        description=(\n",
        "            \"Description of the relationship, it should be a complete and comprehensive sentence, not few words. \"\n",
        "            \"Sample description of relationship (source: TiDB, target: MySQL): 'TiDB is highly compatible with MySQL.'\",\n",
        "        )\n",
        "    )\n",
        "\n",
        "class KnowledgeGraph(BaseModel):\n",
        "    \"\"\"Graph representation of the knowledge for text.\"\"\"\n",
        "\n",
        "    entities: List[Entity] = Field(\n",
        "        description=\"List of entities in the knowledge graph\"\n",
        "    )\n",
        "    relationships: List[Relationship] = Field(\n",
        "        description=\"List of relationships in the knowledge graph\"\n",
        "    )\n",
        "\n",
        "class ExtractGraphTriplet(dspy.Signature):\n",
        "    \"\"\"Extract a comprehensive knowledge graph from LinkedIn company profiles by identifying business entities and their relationships.\n",
        "\n",
        "## Entity Extraction Rules:\n",
        "- Extract meaningful business entities: companies, products, technologies, services, locations, industries\n",
        "- Use specific, self-explanatory names (avoid generic terms like \"product\", \"technology\")\n",
        "- Consolidate similar entities to prevent redundancy\n",
        "- Include both high-level concepts and technical details\n",
        "\n",
        "Good entities: \"TiDB Distributed Database\", \"MySQL Compatibility\", \"HTAP Architecture\"\n",
        "Bad entities: \"AWS\", \"Product\", \"Technology\", \"111 Employees\"\n",
        "\n",
        "## Relationship Identification:\n",
        "- Identify clear directional relationships between entities\n",
        "- Focus on business dependencies, technical integrations, market competition\n",
        "- Ensure each relationship has textual evidence\n",
        "\n",
        "Common patterns:\n",
        "- Company_A develops Product_B: for example, PingCAP develops TiDB Cloud\n",
        "- Product_C compatible_with Standard_D\n",
        "- Service_E targets Market_F\n",
        "- Service_G based_on Product_H: for example. AWS RDS for MySQL is a fully managed service based on MySQL.\n",
        "\n",
        "## Quality Requirements:\n",
        "- Extract ALL meaningful entities and relationships in one pass\n",
        "- Prioritize business-relevant information\n",
        "- Maintain accurate relationship directionality\n",
        "- Use specific, actionable relationship descriptions\n",
        "- Ensure entity names are immediately understandable\n",
        "\n",
        "Generate a complete knowledge graph that captures the company's business model, technical capabilities, and market positioning.\n",
        "    \"\"\"\n",
        "    text = dspy.InputField(\n",
        "        desc=\"A company introduction paragraph from LinkedIn or similar source\"\n",
        "    )\n",
        "    knowledge: KnowledgeGraph = dspy.OutputField(\n",
        "        desc=\"Graph representation of the business knowledge extracted from the text.\"\n",
        "    )\n",
        "\n",
        "class Extractor(dspy.Module):\n",
        "    def __init__(self):\n",
        "        super().__init__()\n",
        "        self.prog_graph = dspy.Predict(ExtractGraphTriplet)\n",
        "\n",
        "    def forward(self, text):\n",
        "        return self.prog_graph(text=text)\n",
        "\n",
        "kg_extractor = Extractor()\n",
        "\n",
        "def extract_knowledge_graph(text) -> KnowledgeGraph:\n",
        "    return kg_extractor(text=text).knowledge"
      ]
    },
    {
      "cell_type": "markdown",
      "metadata": {
        "id": "oNSoJW3BTpcm"
      },
      "source": [
        "#### save_knowledge_graph"
      ]
    },
    {
      "cell_type": "code",
      "execution_count": null,
      "metadata": {
        "id": "cTB3AGsKyPEp"
      },
      "outputs": [],
      "source": [
        "def get_entities_by_names(names: List[str]) -> List[DBEntity]:\n",
        "    if not names:\n",
        "        return []\n",
        "    return entity_table.query(filters={\"name\": {\"$in\": names}}).to_pydantic()\n",
        "\n",
        "def find_most_similar_entity(entity: Entity) -> Optional[DBEntity]:\n",
        "    query = f\"{entity.name}: {entity.description}\"\n",
        "    results = entity_table.search(query).distance_threshold(0.3).limit(1).to_pydantic()\n",
        "    return results[0] if results else None\n",
        "\n",
        "def save_knowledge_graph(kg: KnowledgeGraph, metadata: Dict[str, Any] = {}):\n",
        "    with db.session() as session:\n",
        "        # Step 1: Find existing entities that have the exact same name.\n",
        "        same_entities = get_entities_by_names([e.name for e in kg.entities])\n",
        "        entity_name_to_id = {e.name: e.id for e in same_entities}\n",
        "\n",
        "        # Step 2: For unmatched entities, try to find similar ones by semantic search.\n",
        "        for entity in kg.entities:\n",
        "            if entity.name in entity_name_to_id:\n",
        "                continue  # Already matched by name.\n",
        "            similar_entity = find_most_similar_entity(entity)\n",
        "            if similar_entity:\n",
        "                entity_name_to_id[entity.name] = similar_entity.id\n",
        "\n",
        "        # Step 3: Insert the remaining entities that are completely new.\n",
        "        entities_to_add = [\n",
        "            DBEntity(name=e.name, description=e.description, meta=metadata)\n",
        "            for e in kg.entities\n",
        "            if e.name not in entity_name_to_id\n",
        "        ]\n",
        "        new_entities = entity_table.bulk_insert(entities_to_add)\n",
        "        entity_name_to_id.update({e.name: e.id for e in new_entities})\n",
        "\n",
        "        # Step 4: Insert relationships only if both source and target entities exist.\n",
        "        relationships = [\n",
        "            DBRelationship(\n",
        "                source_entity_id=entity_name_to_id[r.source_name],\n",
        "                target_entity_id=entity_name_to_id[r.target_name],\n",
        "                relationship_desc=r.relationship_desc\n",
        "            )\n",
        "            for r in kg.relationships\n",
        "            if r.source_name in entity_name_to_id and r.target_name in entity_name_to_id\n",
        "        ]\n",
        "        relationship_table.bulk_insert(relationships)\n",
        "\n",
        "        session.commit()"
      ]
    },
    {
      "cell_type": "markdown",
      "metadata": {
        "id": "SFphbE-iEv0U"
      },
      "source": [
        "#### retrieve_knowledge_graph"
      ]
    },
    {
      "cell_type": "code",
      "execution_count": null,
      "metadata": {
        "id": "c2FEXGD4zDov"
      },
      "outputs": [],
      "source": [
        "from collections import deque\n",
        "from sqlalchemy import select, or_\n",
        "from sqlalchemy.orm import joinedload\n",
        "\n",
        "\n",
        "class RetrievedKnowledgeGraph(BaseModel):\n",
        "    entities: List[DBEntity]\n",
        "    relationships: List[DBRelationship]\n",
        "\n",
        "\n",
        "def retrieve_knowledge_graph(query, max_depth=3, top_k=10) -> RetrievedKnowledgeGraph:\n",
        "    with db.session() as session:\n",
        "        start_entities = entity_table.search(query).limit(top_k).to_pydantic()\n",
        "        if not start_entities:\n",
        "            return [], []\n",
        "\n",
        "        entities, relationships = knowledge_graph_bfs(session, start_entities, max_depth)\n",
        "        return RetrievedKnowledgeGraph(\n",
        "            entities=[DBEntity.model_validate(e) for e in entities],\n",
        "            relationships=[DBRelationship.model_validate(r) for r in relationships],\n",
        "        )\n",
        "\n",
        "\n",
        "def get_connected_relationships(session, entity_id):\n",
        "    stmt = (\n",
        "        select(DBRelationship)\n",
        "        .options(\n",
        "            joinedload(DBRelationship.source_entity),\n",
        "            joinedload(DBRelationship.target_entity),\n",
        "        )\n",
        "        .where(\n",
        "            or_(\n",
        "                DBRelationship.source_entity_id == entity_id,\n",
        "                DBRelationship.target_entity_id == entity_id,\n",
        "            )\n",
        "        )\n",
        "    )\n",
        "    return session.execute(stmt).scalars().all()\n",
        "\n",
        "def knowledge_graph_bfs(session, start_entities, max_depth: int):\n",
        "    \"\"\"\n",
        "    BFS (Breadth-first search) from multiple entities, collecting all related entities and relationships.\n",
        "    \"\"\"\n",
        "    visited_entities = {e.id: e for e in start_entities}\n",
        "    visited_relationships = {}\n",
        "\n",
        "    queue = deque((e, 0) for e in start_entities)\n",
        "\n",
        "    while queue:\n",
        "        entity, depth = queue.popleft()\n",
        "        if depth >= max_depth:\n",
        "            continue\n",
        "\n",
        "        for rel in get_connected_relationships(session, entity.id):\n",
        "            if rel.id in visited_relationships:\n",
        "                continue\n",
        "            visited_relationships[rel.id] = rel\n",
        "\n",
        "            for neighbor in [rel.source_entity, rel.target_entity]:\n",
        "                if neighbor.id not in visited_entities:\n",
        "                    visited_entities[neighbor.id] = neighbor\n",
        "                    queue.append((neighbor, depth + 1))\n",
        "\n",
        "    return list(visited_entities.values()), list(visited_relationships.values())\n"
      ]
    },
    {
      "cell_type": "markdown",
      "metadata": {
        "id": "yfOZUOO7TvLp"
      },
      "source": [
        "#### visualize_knowledge_graph"
      ]
    },
    {
      "cell_type": "markdown",
      "metadata": {
        "id": "C6ssVDn9wq1y"
      },
      "source": [
        "**Define the structure can be visualizbled:**"
      ]
    },
    {
      "cell_type": "code",
      "execution_count": null,
      "metadata": {
        "id": "tIbPANXDjpHv"
      },
      "outputs": [],
      "source": [
        "from typing import Protocol\n",
        "\n",
        "class VisualizableEntity(Protocol):\n",
        "    name: str\n",
        "    description: str\n",
        "    meta: Dict[str, Any]\n",
        "\n",
        "class VisualizableRelationship(Protocol):\n",
        "    source_name: str\n",
        "    target_name: str\n",
        "    relationship_desc: str\n",
        "\n",
        "class VisualizableKnowledgeGraph(Protocol):\n",
        "    entities: List[VisualizableEntity]\n",
        "    relationships: List[VisualizableRelationship]"
      ]
    },
    {
      "cell_type": "markdown",
      "metadata": {
        "id": "0lDKLf6cwyO-"
      },
      "source": [
        "**visualize_knowledge_graph**"
      ]
    },
    {
      "cell_type": "code",
      "execution_count": null,
      "metadata": {
        "id": "hE7WN0kZT3xw"
      },
      "outputs": [],
      "source": [
        "from typing import Callable\n",
        "from pyvis.network import Network\n",
        "from IPython.display import display, HTML\n",
        "import os\n",
        "import time\n",
        "import http.server\n",
        "import socketserver\n",
        "import threading\n",
        "import webbrowser\n",
        "\n",
        "def start_local_server(port=8000, default_page=\"company.html\"):\n",
        "    class MyHandler(http.server.SimpleHTTPRequestHandler):\n",
        "        def do_GET(self):\n",
        "            if self.path in (\"/\", \"/index.html\"):\n",
        "                self.path = \"/\" + default_page\n",
        "            return super().do_GET()\n",
        "\n",
        "    with socketserver.TCPServer((\"\", port), MyHandler) as httpd:\n",
        "        httpd.serve_forever()\n",
        "\n",
        "def visualize_knowledge_graph(\n",
        "    kg: VisualizableKnowledgeGraph,\n",
        "    filename: str,\n",
        "    port: int,\n",
        "    custom_node_fn: Optional[Callable[[VisualizableEntity], dict]] = None\n",
        "):\n",
        "    net = Network(notebook=True, cdn_resources='remote')\n",
        "    node_name_to_id = {e.name: i for i, e in enumerate(kg.entities)}\n",
        "\n",
        "    for name, i in node_name_to_id.items():\n",
        "        entity = kg.entities[i]\n",
        "        node_properties = {}\n",
        "        if custom_node_fn is not None:\n",
        "            node_properties = custom_node_fn(entity)\n",
        "        net.add_node(i, label=entity.name, title=entity.description, **node_properties)\n",
        "\n",
        "    for r in kg.relationships:\n",
        "        src = node_name_to_id.get(r.source_name)\n",
        "        tgt = node_name_to_id.get(r.target_name)\n",
        "        if src is not None and tgt is not None:\n",
        "            net.add_edge(src, tgt, title=r.relationship_desc)\n",
        "\n",
        "    if filename is None or filename == \"\":\n",
        "        filename = f\"graph_{time.time()}.html\"\n",
        "\n",
        "    net.save_graph(filename)\n",
        "\n",
        "    server_thread = threading.Thread(\n",
        "        target=start_local_server,\n",
        "        args=(port, filename),\n",
        "        daemon=True\n",
        "    )\n",
        "    server_thread.start()\n",
        "\n",
        "    link_html = f'<a href=\"http://localhost:{port}/\" target=\"_blank\">Click here to open knowledge graph in new tab</a>'\n",
        "    display(HTML(link_html))\n"
      ]
    },
    {
      "cell_type": "markdown",
      "metadata": {
        "id": "WmCfgI7rw43A"
      },
      "source": [
        "**custom_node_fn**\n",
        "\n",
        "A function to assign different colors to subgraphs of the knowledge graph based on company ID"
      ]
    },
    {
      "cell_type": "code",
      "execution_count": null,
      "metadata": {
        "id": "olFt6fB1w5LL"
      },
      "outputs": [],
      "source": [
        "COLORS = [\n",
        "    \"#5470C6\", \"#91CC75\", \"#FAC858\", \"#EE6666\", \"#73C0DE\",\n",
        "    \"#3BA272\", \"#FC8452\", \"#9A60B4\", \"#EA7CCC\",\n",
        "    \"#5A9BD5\", \"#A5A5A5\", \"#FFD700\", \"#FF6347\", \"#40E0D0\",\n",
        "    \"#8A2BE2\", \"#FF69B4\", \"#00FA9A\", \"#D2691E\", \"#6495ED\"\n",
        "]\n",
        "\n",
        "def get_company_color(company_id: str) -> str:\n",
        "    index = hash(company_id) % len(COLORS)\n",
        "    return COLORS[index]\n",
        "\n",
        "def custom_node_fn(entity):\n",
        "    meta = entity.meta if hasattr(entity, \"meta\") else {}\n",
        "    company_id = meta.get(\"company_id\", \"default\")\n",
        "    color = get_company_color(company_id)\n",
        "    return {\n",
        "        \"color\": color\n",
        "    }"
      ]
    },
    {
      "cell_type": "markdown",
      "metadata": {
        "id": "dvu-bJdrRay2"
      },
      "source": [
        "#### answer_with_knowledge_graph"
      ]
    },
    {
      "cell_type": "code",
      "execution_count": null,
      "metadata": {
        "id": "AGjuQLJ9Rabj"
      },
      "outputs": [],
      "source": [
        "class AnswerWithKG(dspy.Signature):\n",
        "    \"\"\"\n",
        "    Model signature for answering questions using a retrieved knowledge graph.\n",
        "\n",
        "    Inputs:\n",
        "        knowledge_graph_context (str): Formatted entities and relationships.\n",
        "        question (str): Question to answer.\n",
        "\n",
        "    Output:\n",
        "        answer (str): Generated answer based on the knowledge graph and question,\n",
        "                      formatted in Markdown.\n",
        "    \"\"\"\n",
        "    knowledge_graph_context: str = dspy.InputField()\n",
        "    question: str = dspy.InputField()\n",
        "    answer: str = dspy.OutputField()\n",
        "\n",
        "\n",
        "def answer_with_knowledge_graph(question: str) -> str:\n",
        "    kg = retrieve_knowledge_graph(question, max_depth=3, top_k=10)\n",
        "\n",
        "    entities_str = \"\\n\".join(f\"{e.name}: {e.description}\" for e in kg.entities)\n",
        "    relationships_str = \"\\n\".join(f\"{r.source_name} -> {r.relationship_desc} -> {r.target_name}\" for r in kg.relationships)\n",
        "\n",
        "    knowledge_graph_context = f\"Entities:\\n{entities_str}\\n\\nRelationships:\\n{relationships_str}\\n\\n\"\n",
        "\n",
        "    answer_question = dspy.Predict(AnswerWithKG)\n",
        "    return answer_question(knowledge_graph_context=knowledge_graph_context, question=question).answer"
      ]
    },
    {
      "cell_type": "markdown",
      "metadata": {
        "id": "3qv_8mFrs62t"
      },
      "source": [
        "#### clear_knowledge_graph"
      ]
    },
    {
      "cell_type": "code",
      "execution_count": null,
      "metadata": {
        "id": "7kwrgjbds7Rb"
      },
      "outputs": [],
      "source": [
        "from sqlalchemy import text\n",
        "\n",
        "def clear_knowledge_graph():\n",
        "  with db.session() as session:\n",
        "      session.execute(text(\"SET FOREIGN_KEY_CHECKS = 0;\"))\n",
        "      relationship_table.truncate()\n",
        "      entity_table.truncate()\n",
        "      session.execute(text(\"SET FOREIGN_KEY_CHECKS = 1;\"))"
      ]
    },
    {
      "cell_type": "markdown",
      "metadata": {
        "id": "cN3-Ym6rGl0A"
      },
      "source": [
        "### Step3. Define Tool Calling Functions"
      ]
    },
    {
      "cell_type": "markdown",
      "metadata": {
        "id": "YT2fP_seG3MV"
      },
      "source": [
        "#### Define Stock Price Query Tool"
      ]
    },
    {
      "cell_type": "code",
      "execution_count": null,
      "metadata": {
        "id": "lxqA24zbGrlG"
      },
      "outputs": [],
      "source": [
        "import yfinance as yf\n",
        "from datetime import datetime, timedelta\n",
        "import pandas as pd\n",
        "\n",
        "def get_stock_price_history(ticker: str, period: str = \"30d\") -> str:\n",
        "    \"\"\"\n",
        "    Fetch historical stock price data for a given ticker symbol.\n",
        "\n",
        "    Args:\n",
        "        ticker: Stock ticker symbol (e.g., 'AAPL', 'MSFT')\n",
        "        period: Time period for historical data (e.g., '30d', '1y', '3mo')\n",
        "                Valid periods: 1d,5d,1mo,3mo,6mo,1y,2y,5y,10y,ytd,max\n",
        "\n",
        "    Returns:\n",
        "        JSON string containing stock price information including:\n",
        "        - Current price\n",
        "        - Price change\n",
        "        - Percentage change\n",
        "        - Historical data summary\n",
        "    \"\"\"\n",
        "    try:\n",
        "        stock = yf.Ticker(ticker)\n",
        "\n",
        "        # Get historical data\n",
        "        hist = stock.history(period=period)\n",
        "        if hist.empty:\n",
        "            return f\"No data found for ticker {ticker}\"\n",
        "\n",
        "        # Get current info\n",
        "        info = stock.info\n",
        "        current_price = info.get('currentPrice', hist['Close'].iloc[-1])\n",
        "\n",
        "        # Calculate metrics\n",
        "        start_price = hist['Close'].iloc[0]\n",
        "        price_change = current_price - start_price\n",
        "        pct_change = (price_change / start_price) * 100\n",
        "\n",
        "        # Summary statistics\n",
        "        max_price = hist['High'].max()\n",
        "        min_price = hist['Low'].min()\n",
        "        avg_volume = hist['Volume'].mean()\n",
        "\n",
        "        result = {\n",
        "            \"ticker\": ticker,\n",
        "            \"period\": period,\n",
        "            \"current_price\": round(current_price, 2),\n",
        "            \"start_price\": round(start_price, 2),\n",
        "            \"price_change\": round(price_change, 2),\n",
        "            \"percentage_change\": round(pct_change, 2),\n",
        "            \"period_high\": round(max_price, 2),\n",
        "            \"period_low\": round(min_price, 2),\n",
        "            \"average_volume\": int(avg_volume),\n",
        "            \"company_name\": info.get('longName', 'N/A'),\n",
        "            \"currency\": info.get('currency', 'USD'),\n",
        "            \"market_cap\": info.get('marketCap', 'N/A'),\n",
        "            \"last_updated\": datetime.now().strftime(\"%Y-%m-%d %H:%M:%S\")\n",
        "        }\n",
        "\n",
        "        return str(result)\n",
        "\n",
        "    except Exception as e:\n",
        "        return f\"Error fetching data for {ticker}: {str(e)}\"\n",
        "\n",
        "# Create DSPy Tool for stock price querying\n",
        "stock_price_tool = dspy.Tool(\n",
        "    func=get_stock_price_history,\n",
        "    name=\"get_stock_price_history\",\n",
        "    desc=\"Retrieve historical stock price data and current financial metrics for a given ticker symbol\"\n",
        ")"
      ]
    },
    {
      "cell_type": "markdown",
      "metadata": {
        "id": "lX4OZgNIHH3B"
      },
      "source": [
        "#### Financial Analysis with Tool Calling"
      ]
    },
    {
      "cell_type": "code",
      "execution_count": null,
      "metadata": {
        "id": "Nl3R_5RiHHiY"
      },
      "outputs": [],
      "source": [
        "class FinancialAnalysisSignature(dspy.Signature):\n",
        "    \"\"\"\n",
        "    Answer financial questions using knowledge graph context and available tools.\n",
        "    You have access to a stock price tool that can fetch current and historical stock data.\n",
        "    Use the tools when specific financial data or stock prices are requested.\n",
        "    \"\"\"\n",
        "    question: str = dspy.InputField(desc=\"Financial question or analysis request\")\n",
        "    knowledge_graph_context: str = dspy.InputField(desc=\"Relevant entities and relationships from the knowledge graph\")\n",
        "    answer: str = dspy.OutputField(desc=\"Comprehensive financial analysis in Markdown format\")\n",
        "\n",
        "class FinancialAgent(dspy.Module):\n",
        "    \"\"\"Financial analysis agent with tool calling capabilities.\"\"\"\n",
        "\n",
        "    def __init__(self):\n",
        "        super().__init__()\n",
        "        self.react = dspy.ReAct(\n",
        "            signature=FinancialAnalysisSignature,\n",
        "            tools=[stock_price_tool],\n",
        "            max_iters=3\n",
        "        )\n",
        "\n",
        "    def forward(self, question: str, knowledge_graph_context: str):\n",
        "        return self.react(question=question, knowledge_graph_context=knowledge_graph_context)\n",
        "\n",
        "def answer_with_knowledge_graph_and_tool_calling(question: str) -> str:\n",
        "    # Retrieve relevant knowledge graph context\n",
        "    kg = retrieve_knowledge_graph(question, max_depth=3, top_k=10)\n",
        "\n",
        "    entities_str = \"\\n\".join(f\"{e.name}: {e.description}\" for e in kg.entities)\n",
        "    relationships_str = \"\\n\".join(f\"{r.source_name} -> {r.relationship_desc} -> {r.target_name}\" for r in kg.relationships)\n",
        "\n",
        "    knowledge_graph_context = f\"Entities:\\n{entities_str}\\n\\nRelationships:\\n{relationships_str}\\n\\n\"\n",
        "\n",
        "    # Create financial agent with tool calling capability\n",
        "    financial_agent = FinancialAgent()\n",
        "\n",
        "    # Generate analysis with tool calling capability\n",
        "    result = financial_agent(\n",
        "        question=question,\n",
        "        knowledge_graph_context=knowledge_graph_context\n",
        "    )\n",
        "\n",
        "    return result.answer"
      ]
    },
    {
      "cell_type": "markdown",
      "metadata": {
        "id": "fkKn3oLO-VRm"
      },
      "source": [
        "### Step 4. Conduct knowledge graph for a company"
      ]
    },
    {
      "cell_type": "code",
      "execution_count": null,
      "metadata": {
        "id": "LUHwPQID-ViH"
      },
      "outputs": [],
      "source": [
        "import pandas as pd\n",
        "\n",
        "test_company = company_table.query(limit=1).to_pydantic()[0]\n",
        "knowledge_graph = extract_knowledge_graph(test_company.ai_summary)"
      ]
    },
    {
      "cell_type": "markdown",
      "metadata": {
        "id": "GNC2-SBMAGs2"
      },
      "source": [
        "**The entities of generated knowledge graph:**"
      ]
    },
    {
      "cell_type": "code",
      "execution_count": null,
      "metadata": {
        "colab": {
          "base_uri": "https://localhost:8080/",
          "height": 268
        },
        "id": "lLmoocQN_-PQ",
        "outputId": "d867cb74-dddb-4c05-a806-b926315be582"
      },
      "outputs": [],
      "source": [
        "entities_df = pd.DataFrame([e.model_dump() for e in knowledge_graph.entities])\n",
        "entities_df"
      ]
    },
    {
      "cell_type": "markdown",
      "metadata": {
        "id": "AbyU4qF2ARaF"
      },
      "source": [
        "**The relationships of generated knowledge graph:**"
      ]
    },
    {
      "cell_type": "code",
      "execution_count": null,
      "metadata": {
        "colab": {
          "base_uri": "https://localhost:8080/",
          "height": 237
        },
        "id": "1EFFFs1hAWmi",
        "outputId": "dc5e9ce2-8d66-4990-81b5-c7648ee9aeb3"
      },
      "outputs": [],
      "source": [
        "relationships_df = pd.DataFrame([e.model_dump() for e in knowledge_graph.relationships])\n",
        "relationships_df"
      ]
    },
    {
      "cell_type": "markdown",
      "metadata": {
        "id": "pmFYTf8d_a8Z"
      },
      "source": [
        "**Company Knowledge Graph Visualization:**"
      ]
    },
    {
      "cell_type": "code",
      "execution_count": null,
      "metadata": {
        "colab": {
          "base_uri": "https://localhost:8080/",
          "height": 626
        },
        "id": "VitYFhAN_aab",
        "outputId": "8725c94e-65e4-4831-d4e2-08d300b57fe1"
      },
      "outputs": [],
      "source": [
        "visualize_knowledge_graph(kg=knowledge_graph, filename=\"company.html\", port=8000)"
      ]
    },
    {
      "cell_type": "markdown",
      "metadata": {
        "id": "qMRdkgLZDgdp"
      },
      "source": [
        "### Step 5. Build a cross-organizational knowledge graph\n",
        "\n"
      ]
    },
    {
      "cell_type": "markdown",
      "metadata": {
        "id": "4mg2LVy0uBHN"
      },
      "source": [
        "**Clear all knowledge graph data from database (if you want):**"
      ]
    },
    {
      "cell_type": "code",
      "execution_count": null,
      "metadata": {
        "id": "j1uJtGBKtPAP"
      },
      "outputs": [],
      "source": [
        "clear_knowledge_graph()"
      ]
    },
    {
      "cell_type": "markdown",
      "metadata": {
        "id": "N9SQO79Vt5HE"
      },
      "source": [
        "**Build knowledge graph for companies:**"
      ]
    },
    {
      "cell_type": "code",
      "execution_count": null,
      "metadata": {
        "colab": {
          "base_uri": "https://localhost:8080/",
          "height": 49,
          "referenced_widgets": [
            "896895a71421408ca3970e28b33da2bf",
            "30a128bbf1194c9a85a49285b7d2cfa0",
            "0addcb0fbee54cf59c688a3a4ab9eb98",
            "1e1db114e98148aaa6aeb7f879031645",
            "9bceecaedb6f4c849a67751241f57027",
            "b069b543812b48b6b4e66673dcd0f4e2",
            "fcc4a3c47f8d4957a44eb7e8ab859fdc",
            "2b9609e3e1fb4f0984104d47b5112f7f",
            "54a2a30619c64676a33cec5bb08585c6",
            "efc91e575ec1453bbf552e72dac6e6e4",
            "c0c69d70381542b7b2acb19d42e05e69"
          ]
        },
        "id": "Jbonc0OvFESs",
        "outputId": "156a7e37-a8bd-4c5f-bffb-b2e1f09c3e99"
      },
      "outputs": [],
      "source": [
        "import logging\n",
        "import traceback\n",
        "from concurrent.futures import ThreadPoolExecutor, as_completed\n",
        "\n",
        "companies = company_table.query(limit=20).to_pydantic()\n",
        "\n",
        "def extract_company_knowledge_graph(company):\n",
        "    try:\n",
        "        knowledge_graph = extract_knowledge_graph(company.ai_summary)\n",
        "        save_knowledge_graph(knowledge_graph, {\n",
        "            \"company_name\": company.company_name,\n",
        "            \"company_id\": company.vector_hash\n",
        "        })\n",
        "    except Exception as err:\n",
        "        logging.error(f\"Failed to process company ({company.company_name}): {err}\")\n",
        "        logging.error(traceback.format_exc())\n",
        "\n",
        "# Build knowledge graph for companies concurrently\n",
        "with ThreadPoolExecutor(max_workers=5) as executor:\n",
        "    futures = [executor.submit(extract_company_knowledge_graph, company) for company in companies]\n",
        "    for future in as_completed(futures):\n",
        "        try:\n",
        "            future.result()\n",
        "        except Exception as err:\n",
        "            logging.error(f\"Future failed: {err}\")\n"
      ]
    },
    {
      "cell_type": "markdown",
      "metadata": {
        "id": "NHpEA-HUk_pK"
      },
      "source": [
        "**Number of entities:**"
      ]
    },
    {
      "cell_type": "code",
      "execution_count": null,
      "metadata": {
        "colab": {
          "base_uri": "https://localhost:8080/"
        },
        "id": "atxJTwzkk8vB",
        "outputId": "54ab4ba2-9d26-4599-9287-fae3e2e994a0"
      },
      "outputs": [],
      "source": [
        "entity_table.rows()"
      ]
    },
    {
      "cell_type": "markdown",
      "metadata": {
        "id": "44B2wD3ulKzO"
      },
      "source": [
        "**Number of relationships:**"
      ]
    },
    {
      "cell_type": "code",
      "execution_count": null,
      "metadata": {
        "colab": {
          "base_uri": "https://localhost:8080/"
        },
        "id": "m_csoA-Rk6Dx",
        "outputId": "32cd6896-1c28-4924-8481-8089e0f40033"
      },
      "outputs": [],
      "source": [
        "relationship_table.rows()"
      ]
    },
    {
      "cell_type": "markdown",
      "metadata": {
        "id": "ZR3DfeE_UBQw"
      },
      "source": [
        "### Step 6. Retrieve knowledge graph"
      ]
    },
    {
      "cell_type": "markdown",
      "metadata": {
        "id": "BKCuPpzGwjJf"
      },
      "source": [
        "**Input a question:**"
      ]
    },
    {
      "cell_type": "code",
      "execution_count": null,
      "metadata": {
        "id": "9EYnRAnqWcGG"
      },
      "outputs": [],
      "source": [
        "question = \"Analyze Tesla's stock price trend over the last 30 days in context of their EV market position\"   # @param {type:\"string\"}"
      ]
    },
    {
      "cell_type": "code",
      "execution_count": null,
      "metadata": {
        "colab": {
          "base_uri": "https://localhost:8080/",
          "height": 626
        },
        "id": "Ra1ykmt9UJaG",
        "outputId": "7f7b7074-6ba0-4f31-a60a-5fe10fc23dc5"
      },
      "outputs": [],
      "source": [
        "knowledge_graph = retrieve_knowledge_graph(question, max_depth=3, top_k=10)\n",
        "visualize_knowledge_graph(kg=knowledge_graph, filename=\"whole_graph.html\", port=8004, custom_node_fn=custom_node_fn)"
      ]
    },
    {
      "cell_type": "markdown",
      "metadata": {
        "id": "DITO3wBsNHNo"
      },
      "source": [
        "### Step 7. Chat with Knowledge Graph"
      ]
    },
    {
      "cell_type": "code",
      "execution_count": null,
      "metadata": {
        "colab": {
          "base_uri": "https://localhost:8080/",
          "height": 116
        },
        "id": "1pIyTWfDOwmb",
        "outputId": "b6709814-3928-4839-fc27-de098a0377d4"
      },
      "outputs": [],
      "source": [
        "from IPython.display import display, Markdown\n",
        "answer = answer_with_knowledge_graph(question)\n",
        "display(Markdown(answer))"
      ]
    },
    {
      "cell_type": "markdown",
      "metadata": {
        "id": "yxrLDrqjHkbe"
      },
      "source": [
        "### Step 8. Financial Analysis with Tool Calling"
      ]
    },
    {
      "cell_type": "code",
      "execution_count": null,
      "metadata": {
        "colab": {
          "base_uri": "https://localhost:8080/",
          "height": 394
        },
        "id": "hagb8pT_Hq5k",
        "outputId": "54f025b0-103f-4cc1-df81-c7958a269fe2"
      },
      "outputs": [],
      "source": [
        "analysis = answer_with_knowledge_graph_and_tool_calling(question)\n",
        "display(Markdown(analysis))"
      ]
    },
    {
      "cell_type": "markdown",
      "metadata": {
        "id": "WFXTop4ahmgm"
      },
      "source": [
        "### Step 8. Review the Token Usage of LLM"
      ]
    },
    {
      "cell_type": "code",
      "execution_count": null,
      "metadata": {
        "colab": {
          "base_uri": "https://localhost:8080/"
        },
        "id": "mRuer9hMhqLc",
        "outputId": "49c75189-7070-429b-ad78-8682ade6ba73"
      },
      "outputs": [],
      "source": [
        "api_call_amount = len(open_ai.history)\n",
        "print(f\"In this demo, we called LLM API of OpenAI {api_call_amount} times.\")"
      ]
    },
    {
      "cell_type": "markdown",
      "metadata": {
        "id": "7Vmed1SNhtbI"
      },
      "source": [
        "#### Token Consumption"
      ]
    },
    {
      "cell_type": "code",
      "execution_count": null,
      "metadata": {
        "colab": {
          "base_uri": "https://localhost:8080/"
        },
        "id": "Geebj_Cphv76",
        "outputId": "032f3e4d-d485-4b81-a10f-f915ac994db9"
      },
      "outputs": [],
      "source": [
        "import pandas as pd\n",
        "\n",
        "hist = open_ai.history\n",
        "df = pd.DataFrame([\n",
        "    {\n",
        "        'prompt_tokens': h['usage'].get('prompt_tokens'),\n",
        "        'completion_tokens': h['usage'].get('completion_tokens'),\n",
        "        'total_tokens': h['usage'].get('total_tokens')\n",
        "    }\n",
        "    for h in hist\n",
        "])\n",
        "\n",
        "totals = df.sum()\n",
        "print(f\"Total prompt_tokens: {totals['prompt_tokens']}\")\n",
        "print(f\"Total completion_tokens: {totals['completion_tokens']}\")\n",
        "print(f\"Total total_tokens: {totals['total_tokens']}\")"
      ]
    },
    {
      "cell_type": "markdown",
      "metadata": {
        "id": "vrvLGv9hhwrB"
      },
      "source": [
        "#### Cumulative Token Usage Breakdown"
      ]
    },
    {
      "cell_type": "code",
      "execution_count": null,
      "metadata": {
        "colab": {
          "base_uri": "https://localhost:8080/",
          "height": 528
        },
        "id": "78i4XYXWh267",
        "outputId": "b9a80f20-f010-49ae-b73a-6bfbeebb44a3"
      },
      "outputs": [],
      "source": [
        "import matplotlib.pyplot as plt\n",
        "\n",
        "labels = ['Prompt tokens', 'Completion tokens']\n",
        "sizes = [totals['prompt_tokens'], totals['completion_tokens']]\n",
        "\n",
        "plt.figure(figsize=(6, 6))\n",
        "plt.pie(sizes, labels=labels, autopct='%1.1f%%', startangle=140)\n",
        "plt.title('Cumulative Token Usage Breakdown')\n",
        "plt.axis('equal')\n",
        "plt.show()"
      ]
    },
    {
      "cell_type": "markdown",
      "metadata": {
        "id": "U8jbDTQNh5CX"
      },
      "source": [
        "#### Per‑Call Token Usage Comparison"
      ]
    },
    {
      "cell_type": "code",
      "execution_count": null,
      "metadata": {
        "colab": {
          "base_uri": "https://localhost:8080/",
          "height": 607
        },
        "id": "OG1Xnhuuh5VH",
        "outputId": "407796a2-a6c9-4521-c2b5-c6020b75823e"
      },
      "outputs": [],
      "source": [
        "plt.figure(figsize=(10, 6))\n",
        "x = df.index.astype(str)\n",
        "\n",
        "bar_width = 0.25\n",
        "r1 = range(len(df))\n",
        "r2 = [i + bar_width for i in r1]\n",
        "r3 = [i + 2*bar_width for i in r1]\n",
        "\n",
        "plt.bar(r1, df['prompt_tokens'], width=bar_width, label='Prompt tokens')\n",
        "plt.bar(r2, df['completion_tokens'], width=bar_width, label='Completion tokens')\n",
        "plt.bar(r3, df['total_tokens'], width=bar_width, label='Total tokens')\n",
        "\n",
        "plt.xlabel('Calling Index')\n",
        "plt.ylabel('Token Consumption')\n",
        "plt.title('Per‑Call Token Usage Comparison')\n",
        "plt.xticks([r + bar_width for r in r1], x, rotation=45)\n",
        "plt.legend()\n",
        "plt.tight_layout()\n",
        "plt.show()"
      ]
    }
  ],
  "metadata": {
    "colab": {
      "provenance": [],
      "toc_visible": true
    },
    "kernelspec": {
      "display_name": "Python 3",
      "language": "python",
      "name": "python3"
    },
    "language_info": {
      "codemirror_mode": {
        "name": "ipython",
        "version": 3
      },
      "file_extension": ".py",
      "mimetype": "text/x-python",
      "name": "python",
      "nbconvert_exporter": "python",
      "pygments_lexer": "ipython3",
      "version": "3.11.11"
    },
    "widgets": {
      "application/vnd.jupyter.widget-state+json": {
        "0addcb0fbee54cf59c688a3a4ab9eb98": {
          "model_module": "@jupyter-widgets/controls",
          "model_module_version": "1.5.0",
          "model_name": "FloatProgressModel",
          "state": {
            "_dom_classes": [],
            "_model_module": "@jupyter-widgets/controls",
            "_model_module_version": "1.5.0",
            "_model_name": "FloatProgressModel",
            "_view_count": null,
            "_view_module": "@jupyter-widgets/controls",
            "_view_module_version": "1.5.0",
            "_view_name": "ProgressView",
            "bar_style": "success",
            "description": "",
            "description_tooltip": null,
            "layout": "IPY_MODEL_2b9609e3e1fb4f0984104d47b5112f7f",
            "max": 11,
            "min": 0,
            "orientation": "horizontal",
            "style": "IPY_MODEL_54a2a30619c64676a33cec5bb08585c6",
            "value": 11
          }
        },
        "1e1db114e98148aaa6aeb7f879031645": {
          "model_module": "@jupyter-widgets/controls",
          "model_module_version": "1.5.0",
          "model_name": "HTMLModel",
          "state": {
            "_dom_classes": [],
            "_model_module": "@jupyter-widgets/controls",
            "_model_module_version": "1.5.0",
            "_model_name": "HTMLModel",
            "_view_count": null,
            "_view_module": "@jupyter-widgets/controls",
            "_view_module_version": "1.5.0",
            "_view_name": "HTMLView",
            "description": "",
            "description_tooltip": null,
            "layout": "IPY_MODEL_efc91e575ec1453bbf552e72dac6e6e4",
            "placeholder": "​",
            "style": "IPY_MODEL_c0c69d70381542b7b2acb19d42e05e69",
            "value": " 11/11 [01:03&lt;00:00,  6.11s/it]"
          }
        },
        "2b9609e3e1fb4f0984104d47b5112f7f": {
          "model_module": "@jupyter-widgets/base",
          "model_module_version": "1.2.0",
          "model_name": "LayoutModel",
          "state": {
            "_model_module": "@jupyter-widgets/base",
            "_model_module_version": "1.2.0",
            "_model_name": "LayoutModel",
            "_view_count": null,
            "_view_module": "@jupyter-widgets/base",
            "_view_module_version": "1.2.0",
            "_view_name": "LayoutView",
            "align_content": null,
            "align_items": null,
            "align_self": null,
            "border": null,
            "bottom": null,
            "display": null,
            "flex": null,
            "flex_flow": null,
            "grid_area": null,
            "grid_auto_columns": null,
            "grid_auto_flow": null,
            "grid_auto_rows": null,
            "grid_column": null,
            "grid_gap": null,
            "grid_row": null,
            "grid_template_areas": null,
            "grid_template_columns": null,
            "grid_template_rows": null,
            "height": null,
            "justify_content": null,
            "justify_items": null,
            "left": null,
            "margin": null,
            "max_height": null,
            "max_width": null,
            "min_height": null,
            "min_width": null,
            "object_fit": null,
            "object_position": null,
            "order": null,
            "overflow": null,
            "overflow_x": null,
            "overflow_y": null,
            "padding": null,
            "right": null,
            "top": null,
            "visibility": null,
            "width": null
          }
        },
        "30a128bbf1194c9a85a49285b7d2cfa0": {
          "model_module": "@jupyter-widgets/controls",
          "model_module_version": "1.5.0",
          "model_name": "HTMLModel",
          "state": {
            "_dom_classes": [],
            "_model_module": "@jupyter-widgets/controls",
            "_model_module_version": "1.5.0",
            "_model_name": "HTMLModel",
            "_view_count": null,
            "_view_module": "@jupyter-widgets/controls",
            "_view_module_version": "1.5.0",
            "_view_name": "HTMLView",
            "description": "",
            "description_tooltip": null,
            "layout": "IPY_MODEL_b069b543812b48b6b4e66673dcd0f4e2",
            "placeholder": "​",
            "style": "IPY_MODEL_fcc4a3c47f8d4957a44eb7e8ab859fdc",
            "value": "100%"
          }
        },
        "54a2a30619c64676a33cec5bb08585c6": {
          "model_module": "@jupyter-widgets/controls",
          "model_module_version": "1.5.0",
          "model_name": "ProgressStyleModel",
          "state": {
            "_model_module": "@jupyter-widgets/controls",
            "_model_module_version": "1.5.0",
            "_model_name": "ProgressStyleModel",
            "_view_count": null,
            "_view_module": "@jupyter-widgets/base",
            "_view_module_version": "1.2.0",
            "_view_name": "StyleView",
            "bar_color": null,
            "description_width": ""
          }
        },
        "896895a71421408ca3970e28b33da2bf": {
          "model_module": "@jupyter-widgets/controls",
          "model_module_version": "1.5.0",
          "model_name": "HBoxModel",
          "state": {
            "_dom_classes": [],
            "_model_module": "@jupyter-widgets/controls",
            "_model_module_version": "1.5.0",
            "_model_name": "HBoxModel",
            "_view_count": null,
            "_view_module": "@jupyter-widgets/controls",
            "_view_module_version": "1.5.0",
            "_view_name": "HBoxView",
            "box_style": "",
            "children": [
              "IPY_MODEL_30a128bbf1194c9a85a49285b7d2cfa0",
              "IPY_MODEL_0addcb0fbee54cf59c688a3a4ab9eb98",
              "IPY_MODEL_1e1db114e98148aaa6aeb7f879031645"
            ],
            "layout": "IPY_MODEL_9bceecaedb6f4c849a67751241f57027"
          }
        },
        "9bceecaedb6f4c849a67751241f57027": {
          "model_module": "@jupyter-widgets/base",
          "model_module_version": "1.2.0",
          "model_name": "LayoutModel",
          "state": {
            "_model_module": "@jupyter-widgets/base",
            "_model_module_version": "1.2.0",
            "_model_name": "LayoutModel",
            "_view_count": null,
            "_view_module": "@jupyter-widgets/base",
            "_view_module_version": "1.2.0",
            "_view_name": "LayoutView",
            "align_content": null,
            "align_items": null,
            "align_self": null,
            "border": null,
            "bottom": null,
            "display": null,
            "flex": null,
            "flex_flow": null,
            "grid_area": null,
            "grid_auto_columns": null,
            "grid_auto_flow": null,
            "grid_auto_rows": null,
            "grid_column": null,
            "grid_gap": null,
            "grid_row": null,
            "grid_template_areas": null,
            "grid_template_columns": null,
            "grid_template_rows": null,
            "height": null,
            "justify_content": null,
            "justify_items": null,
            "left": null,
            "margin": null,
            "max_height": null,
            "max_width": null,
            "min_height": null,
            "min_width": null,
            "object_fit": null,
            "object_position": null,
            "order": null,
            "overflow": null,
            "overflow_x": null,
            "overflow_y": null,
            "padding": null,
            "right": null,
            "top": null,
            "visibility": null,
            "width": null
          }
        },
        "b069b543812b48b6b4e66673dcd0f4e2": {
          "model_module": "@jupyter-widgets/base",
          "model_module_version": "1.2.0",
          "model_name": "LayoutModel",
          "state": {
            "_model_module": "@jupyter-widgets/base",
            "_model_module_version": "1.2.0",
            "_model_name": "LayoutModel",
            "_view_count": null,
            "_view_module": "@jupyter-widgets/base",
            "_view_module_version": "1.2.0",
            "_view_name": "LayoutView",
            "align_content": null,
            "align_items": null,
            "align_self": null,
            "border": null,
            "bottom": null,
            "display": null,
            "flex": null,
            "flex_flow": null,
            "grid_area": null,
            "grid_auto_columns": null,
            "grid_auto_flow": null,
            "grid_auto_rows": null,
            "grid_column": null,
            "grid_gap": null,
            "grid_row": null,
            "grid_template_areas": null,
            "grid_template_columns": null,
            "grid_template_rows": null,
            "height": null,
            "justify_content": null,
            "justify_items": null,
            "left": null,
            "margin": null,
            "max_height": null,
            "max_width": null,
            "min_height": null,
            "min_width": null,
            "object_fit": null,
            "object_position": null,
            "order": null,
            "overflow": null,
            "overflow_x": null,
            "overflow_y": null,
            "padding": null,
            "right": null,
            "top": null,
            "visibility": null,
            "width": null
          }
        },
        "c0c69d70381542b7b2acb19d42e05e69": {
          "model_module": "@jupyter-widgets/controls",
          "model_module_version": "1.5.0",
          "model_name": "DescriptionStyleModel",
          "state": {
            "_model_module": "@jupyter-widgets/controls",
            "_model_module_version": "1.5.0",
            "_model_name": "DescriptionStyleModel",
            "_view_count": null,
            "_view_module": "@jupyter-widgets/base",
            "_view_module_version": "1.2.0",
            "_view_name": "StyleView",
            "description_width": ""
          }
        },
        "efc91e575ec1453bbf552e72dac6e6e4": {
          "model_module": "@jupyter-widgets/base",
          "model_module_version": "1.2.0",
          "model_name": "LayoutModel",
          "state": {
            "_model_module": "@jupyter-widgets/base",
            "_model_module_version": "1.2.0",
            "_model_name": "LayoutModel",
            "_view_count": null,
            "_view_module": "@jupyter-widgets/base",
            "_view_module_version": "1.2.0",
            "_view_name": "LayoutView",
            "align_content": null,
            "align_items": null,
            "align_self": null,
            "border": null,
            "bottom": null,
            "display": null,
            "flex": null,
            "flex_flow": null,
            "grid_area": null,
            "grid_auto_columns": null,
            "grid_auto_flow": null,
            "grid_auto_rows": null,
            "grid_column": null,
            "grid_gap": null,
            "grid_row": null,
            "grid_template_areas": null,
            "grid_template_columns": null,
            "grid_template_rows": null,
            "height": null,
            "justify_content": null,
            "justify_items": null,
            "left": null,
            "margin": null,
            "max_height": null,
            "max_width": null,
            "min_height": null,
            "min_width": null,
            "object_fit": null,
            "object_position": null,
            "order": null,
            "overflow": null,
            "overflow_x": null,
            "overflow_y": null,
            "padding": null,
            "right": null,
            "top": null,
            "visibility": null,
            "width": null
          }
        },
        "fcc4a3c47f8d4957a44eb7e8ab859fdc": {
          "model_module": "@jupyter-widgets/controls",
          "model_module_version": "1.5.0",
          "model_name": "DescriptionStyleModel",
          "state": {
            "_model_module": "@jupyter-widgets/controls",
            "_model_module_version": "1.5.0",
            "_model_name": "DescriptionStyleModel",
            "_view_count": null,
            "_view_module": "@jupyter-widgets/base",
            "_view_module_version": "1.2.0",
            "_view_name": "StyleView",
            "description_width": ""
          }
        }
      }
    }
  },
  "nbformat": 4,
  "nbformat_minor": 0
}
